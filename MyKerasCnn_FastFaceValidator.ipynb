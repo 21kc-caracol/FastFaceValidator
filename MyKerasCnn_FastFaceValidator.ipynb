{
 "cells": [
  {
   "cell_type": "code",
   "execution_count": 1,
   "metadata": {},
   "outputs": [
    {
     "name": "stderr",
     "output_type": "stream",
     "text": [
      "Using TensorFlow backend.\n"
     ]
    }
   ],
   "source": [
    "import Bmtcnn\n",
    "\n",
    "import matplotlib.pyplot as plt\n",
    "%matplotlib inline\n",
    "import PIL\n",
    "import numpy as np\n",
    "\n",
    "import os \n",
    "import random\n",
    "\n",
    "import csv\n",
    "\n",
    "import datetime\n",
    "import cv2\n",
    "import timeit\n",
    "\n",
    "import pandas as pd\n",
    "\n",
    "import pickle as pkl\n",
    "\n",
    "#import mtcnn\n",
    "\n",
    "import cvlib\n",
    "\n",
    "\n",
    "from keras.preprocessing.image import load_img\n",
    "from keras.preprocessing.image import img_to_array"
   ]
  },
  {
   "cell_type": "code",
   "execution_count": 2,
   "metadata": {},
   "outputs": [],
   "source": [
    "# globals..\n",
    "#for initial experiments and manipulations\n",
    "pos_path='as_received_data\\\\aligned'\n",
    "neg_path='as_received_data\\\\negative'\n",
    "\n",
    "# for model cells and onwards\n",
    "Neg_Dir= 'data\\\\negative'\n",
    "Pos_Dir= 'data\\\\aligned'  \n",
    "Models_Dir= 'preTrainedModels'\n",
    "\n",
    "Wrong_Dir='wrongPrediction'\n",
    "\n",
    "Results_Dir= 'results'\n",
    "Results_File_Path= Results_Dir+'\\\\'+'results.csv'\n",
    "\n",
    "Results_head=[\"comment\",\"model_comment\",\"date_time\",\"batch\",\n",
    "             \"learning_rate\",\"epochs\",\"time_ms\",\"accuracy\",\"recall\"]"
   ]
  },
  {
   "cell_type": "code",
   "execution_count": 3,
   "metadata": {},
   "outputs": [],
   "source": [
    "model= Bmtcnn.BMTCNN()"
   ]
  },
  {
   "cell_type": "code",
   "execution_count": 4,
   "metadata": {},
   "outputs": [
    {
     "data": {
      "text/plain": [
       "'data\\\\negative\\\\000218.jpg_0_3431359__negative_9.png'"
      ]
     },
     "execution_count": 4,
     "metadata": {},
     "output_type": "execute_result"
    }
   ],
   "source": [
    "neg_image_path = Neg_Dir + '\\\\' + random.choice(os.listdir(Neg_Dir))\n",
    "neg_image_path"
   ]
  },
  {
   "cell_type": "code",
   "execution_count": 5,
   "metadata": {},
   "outputs": [
    {
     "data": {
      "text/plain": [
       "'data\\\\aligned\\\\Sam_Bith_0003.png'"
      ]
     },
     "execution_count": 5,
     "metadata": {},
     "output_type": "execute_result"
    }
   ],
   "source": [
    "pos_image_path = Pos_Dir + '\\\\' + random.choice(os.listdir(Pos_Dir))\n",
    "pos_image_path"
   ]
  },
  {
   "cell_type": "code",
   "execution_count": 6,
   "metadata": {},
   "outputs": [
    {
     "data": {
      "text/plain": [
       "True"
      ]
     },
     "execution_count": 6,
     "metadata": {},
     "output_type": "execute_result"
    }
   ],
   "source": [
    "image = PIL.Image.open(pos_image_path)\n",
    "image = image.convert('RGB')\n",
    "pixels = np.asarray(image)\n",
    "\n",
    "detections = model.detect_faces(pixels)\n",
    "detections\n",
    "   "
   ]
  },
  {
   "cell_type": "code",
   "execution_count": null,
   "metadata": {},
   "outputs": [],
   "source": []
  }
 ],
 "metadata": {
  "kernelspec": {
   "display_name": "Python 3",
   "language": "python",
   "name": "python3"
  },
  "language_info": {
   "codemirror_mode": {
    "name": "ipython",
    "version": 3
   },
   "file_extension": ".py",
   "mimetype": "text/x-python",
   "name": "python",
   "nbconvert_exporter": "python",
   "pygments_lexer": "ipython3",
   "version": "3.7.4"
  }
 },
 "nbformat": 4,
 "nbformat_minor": 2
}
