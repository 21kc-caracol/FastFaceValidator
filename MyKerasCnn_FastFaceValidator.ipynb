{
 "cells": [
  {
   "cell_type": "code",
   "execution_count": 25,
   "metadata": {},
   "outputs": [],
   "source": [
    "import Bmtcnn\n",
    "\n",
    "import matplotlib.pyplot as plt\n",
    "%matplotlib inline\n",
    "import PIL\n",
    "import numpy as np\n",
    "\n",
    "import os \n",
    "import random\n",
    "\n",
    "import csv\n",
    "\n",
    "import datetime\n",
    "import cv2\n",
    "import timeit\n",
    "\n",
    "import pandas as pd\n",
    "\n",
    "import pickle as pkl\n",
    "\n",
    "import mtcnn\n",
    "\n",
    "import cvlib\n",
    "\n",
    "import glob\n",
    "\n",
    "from keras.models import load_model\n",
    "from keras.preprocessing.image import load_img\n",
    "from keras.preprocessing.image import img_to_array\n",
    "from keras.preprocessing.image import ImageDataGenerator, load_img, img_to_array, array_to_img\n",
    "from keras.layers import Dense,GlobalAveragePooling2D\n",
    "import pkg_resources\n",
    "from mtcnn.network.factory import NetworkFactory\n",
    "\n",
    "from keras.layers import Conv2D, Flatten, Dropout, MaxPooling2D, Activation,Dense\n",
    "from keras.models import Model\n",
    "from keras.preprocessing.image import ImageDataGenerator\n",
    "\n",
    "from keras import backend as K\n",
    "\n",
    "\n",
    "from enum import Enum\n",
    "\n",
    "from matplotlib.patches import Rectangle\n",
    "from matplotlib.patches import Circle\n",
    "from termcolor import colored\n",
    "\n",
    "from shutil import copyfile\n",
    "from pathlib import Path"
   ]
  },
  {
   "cell_type": "code",
   "execution_count": 26,
   "metadata": {},
   "outputs": [],
   "source": [
    "# globals..\n",
    "#for initial experiments and manipulations\n",
    "pos_path='as_received_data\\\\aligned'\n",
    "neg_path='as_received_data\\\\negative'\n",
    "\n",
    "# for model cells and onwards\n",
    "Neg_Dir= 'data\\\\negative'\n",
    "Pos_Dir= 'data\\\\aligned'  \n",
    "Models_Dir= 'preTrainedModels'\n",
    "\n",
    "Wrong_Dir='wrongPrediction'\n",
    "\n",
    "Results_Dir= 'results'\n",
    "Results_File_Path= Results_Dir+'\\\\'+'results.csv'\n",
    "\n",
    "Results_head=[\"comment\",\"model_comment\",\"date_time\",\"batch\",\n",
    "             \"learning_rate\",\"epochs\",\"time_ms\",\"accuracy\",\"recall\",\"precision\"]\n",
    "\n"
   ]
  },
  {
   "cell_type": "code",
   "execution_count": 27,
   "metadata": {},
   "outputs": [],
   "source": [
    "# candidate models\n",
    "class Model_cv2_haarcascade():\n",
    "    def __init__(self,in_scale= 1.02, in_minNeighbors= 4):\n",
    "        \"\"\"\n",
    "        assuming you have the same folder and file I had. you can modify it if not.\n",
    "        \n",
    "        you can download the used model from:\n",
    "        https://raw.githubusercontent.com/opencv/opencv/master/data/haarcascades/haarcascade_frontalface_default.xml\n",
    "        \"\"\"\n",
    "        self.Models_Dir= 'preTrainedModels'\n",
    "        self.model_path= Models_Dir + '//' + 'haarcascade_frontalface_default.xml'\n",
    "        self.classifier = cv2.CascadeClassifier(self.model_path)\n",
    "        \n",
    "        self.dest_size= 50\n",
    "        self.scale= in_scale\n",
    "        self.minNeighbors= in_minNeighbors\n",
    "        \n",
    "    def transform_predict(self, image):\n",
    "        \"\"\"\n",
    "        @param: image    an already \"imread\" image\n",
    "        \n",
    "        Result:  True if faces are found, False otherwise. (about 5 millisecond run time)\n",
    "        \n",
    "        the function turns the image to greyscale and reshapes to a (50,50) size\n",
    "        which was the size I tested the model and parameters upon.\n",
    "        \n",
    "        usage example: \n",
    "            model= Model_cv2_haarcascade()\n",
    "            image = cv2.imread(\"Rudolf_Schuster_0001.jpg\")\n",
    "            model.transform_predict(image)\n",
    "            \n",
    "        \n",
    "        \"\"\"\n",
    "        grey= cv2.cvtColor(image, cv2.COLOR_BGR2GRAY)\n",
    "        resized= cv2.resize(grey,(self.dest_size,self.dest_size),interpolation =cv2.INTER_AREA)\n",
    "        bboxes = self.classifier.detectMultiScale(resized,self.scale,self.minNeighbors)\n",
    "        if len(bboxes)>0:\n",
    "            return True\n",
    "        else:\n",
    "            return False\n",
    "    \n",
    "\n",
    "\n",
    "\n",
    "class DirType(Enum):\n",
    "    Negative = 0\n",
    "    Positive = 1\n",
    "    \n",
    "    \n",
    "class Pmtcnn():\n",
    "    \"\"\"\n",
    "    post processes mtcnn for aligned faces accurate detection\n",
    "    \n",
    "    Prequisits- make sure you installed & imported the standard mtcnn\n",
    "                (pip install mtcnn, then import mtcnn)\n",
    "    \n",
    "    \"\"\"\n",
    "    def __init__(self,scale_factor=0.709):\n",
    "        self.model = mtcnn.MTCNN(scale_factor=scale_factor)\n",
    "        self.dest_size= 50  # the target image size\n",
    "\n",
    "    def transform_detect_aligned(self,image):\n",
    "        \"\"\"\n",
    "        @param: image expects an image after it was loaded\n",
    "        example: \n",
    "                image = PIL.Image.open(neg_image_path)\n",
    "                \n",
    "        transforms image to destination size and detects aligned faces\n",
    "        \n",
    "        Returns:\n",
    "                if 1 landmark exceeds image size- returns False\n",
    "                if all landmarks within image size= return True\n",
    "                \n",
    "                also assumes if there is 1 non-aligned face- returns false\n",
    "        \"\"\"\n",
    "        image= image.resize((self.dest_size, self.dest_size), resample=PIL.Image.LANCZOS)\n",
    "        image = image.convert('RGB')\n",
    "        pixels = np.asarray(image)\n",
    "        \n",
    "        results = self.model.detect_faces(pixels)\n",
    "        if len(results)==0:\n",
    "            return False # didn't detect\n",
    "        \n",
    "        # could iterate once..but fot now I'll keep safe \n",
    "        for result in results:\n",
    "            for key, loc in result['keypoints'].items():\n",
    "                # just to be safe, adding \"below zero conditions\"\n",
    "                if loc[0]>image.size[0] or loc[1]>image.size[1] or loc[0]<0 or loc[1]<0:\n",
    "                    return False   \n",
    "        \n",
    "        return True\n",
    "    \n",
    "    def change_scale_and_image_size(self,scale_factor=0.709,dest_size=50 ):\n",
    "        self.model = mtcnn.MTCNN(scale_factor=scale_factor)\n",
    "        self.dest_size= dest_size  # the target image size\n",
    "\n",
    "    "
   ]
  },
  {
   "cell_type": "code",
   "execution_count": 28,
   "metadata": {},
   "outputs": [],
   "source": [
    "# functions\n",
    "def get_rand_img_paths(path,n=10):\n",
    "    \"\"\"\n",
    "    @param: path  path to a folder with images (no validation)\n",
    "    @param: n     number of random paths\n",
    "    \n",
    "    Return:       \"n\" random paths from \"path\"\n",
    "    \"\"\"\n",
    "    paths=[]\n",
    "    for i in range(0,n):\n",
    "        rand_file_path= random.choice(os.listdir(path))\n",
    "        file_path = path+'\\\\'+ rand_file_path\n",
    "        paths.append(file_path)\n",
    "\n",
    "    return paths\n",
    "\n",
    "def show_pos_neg_random(amount=5):\n",
    "    \"\"\"\n",
    "    @param: amount  amount of images to display in each row\n",
    "    \n",
    "    Return: shows 2 rows. upper- positive aligned faces, bottom- not aligned faces.\n",
    "            each row at the length of \"amount\"\n",
    "    \"\"\"\n",
    "    pos_path_list= get_rand_img_paths(pos_path,amount)\n",
    "    neg_path_list= get_rand_img_paths(neg_path,amount)\n",
    "    assert len(pos_path_list)==len(neg_path_list)\n",
    "\n",
    "    images_pos = [PIL.Image.open(path).convert(\"L\") for path in pos_path_list ]\n",
    "    np_images_pos = [ np.asarray(im) for im in images_pos ]\n",
    "\n",
    "    images_neg = [PIL.Image.open(path).convert(\"L\") for path in neg_path_list ]\n",
    "    np_images_neg = [ np.asarray(im) for im in images_neg ]\n",
    "\n",
    "    n_rows=2\n",
    "    n_cols= len(pos_path_list)\n",
    "\n",
    "\n",
    "    fig, axarr = plt.subplots(nrows=n_rows, ncols=n_cols, squeeze=False,figsize=(10, 10))\n",
    "    fig.subplots_adjust(wspace=0.3, hspace=0.2)\n",
    "    for row in range(0,n_rows):\n",
    "        for col in range(0,n_cols):\n",
    "            axarr[row][col].axis('off')  # Turn off tick labels\n",
    "            if row==0:\n",
    "                axarr[row][col].imshow(np_images_pos[col], cmap='gray', vmin=0, vmax=255) #keep same image colors\n",
    "            else:\n",
    "                axarr[row][col].imshow(np_images_neg[col], cmap='gray', vmin=0, vmax=255) #keep same image colors\n",
    "\n",
    "def show_random(path, amount=5):\n",
    "    \"\"\"\n",
    "    @param: amount  amount of images to display\n",
    "    \n",
    "    Return: shows random images  at the length of \"amount\" from \"path\"\n",
    "    \"\"\"\n",
    "    path_list= get_rand_img_paths(path,amount)\n",
    "\n",
    "    images = [PIL.Image.open(path).convert(\"L\") for path in path_list ]\n",
    "    np_images = [ np.asarray(im) for im in images ]\n",
    "\n",
    "\n",
    "    n_cols= len(path_list)\n",
    "\n",
    "\n",
    "    fig, axarr = plt.subplots(ncols=n_cols, squeeze=False,figsize=(10, 10))\n",
    "    fig.subplots_adjust(wspace=0.3, hspace=0.2)\n",
    "    for col in range(0,n_cols):\n",
    "        axarr[0][col].axis('off')  # Turn off tick labels\n",
    "        axarr[0][col].imshow(np_images[col], cmap='gray', vmin=0, vmax=255) #keep same image colors\n",
    "\n",
    "def imageCropResize(in_image, percent=80, dest_size=50):\n",
    "    \"\"\"\n",
    "    @param: in_image   PIL already opened image\n",
    "    @param: percent    how much percent to leave in image\n",
    "    @param: dest_size  desired pixel size \n",
    "    \n",
    "    note: Currently assuming a desired square sizes.\n",
    "    \n",
    "    Return: \n",
    "    \"\"\"\n",
    "    width, height = in_image.size   # Get dimensions\n",
    "\n",
    "    desired_percent_width= percent\n",
    "    desired_percent_height= percent\n",
    "\n",
    "    new_width= int(width * desired_percent_width / 100)\n",
    "    new_height= int(height * desired_percent_height / 100)\n",
    "\n",
    "    left = (width - new_width)/2\n",
    "    top = (height - new_height)/2\n",
    "    right = (width + new_width)/2\n",
    "    bottom = (height + new_height)/2\n",
    "\n",
    "    # Crop the center of the image\n",
    "    im_raw_centered = in_image.crop((left, top, right, bottom))\n",
    "    im_raw_centered_resized=im_raw_centered.resize((dest_size, dest_size), resample=PIL.Image.LANCZOS)\n",
    "    return im_raw_centered_resized  \n",
    "\n",
    "\n",
    "def cropResizeSave():\n",
    "    \"\"\"\n",
    "    this function was used once in order to transform newly imported images to the same dimensions\n",
    "    and format as the aligned faces I have received for this task\n",
    "    \"\"\"\n",
    "    # cropping and centering each image\n",
    "    percent= 80\n",
    "    dest_size= 50 # same for height and width\n",
    "    dest_folder_path='raw_cropped_centered'\n",
    "    raw_folder_path= 'raw_imported_positives'\n",
    "\n",
    "    for img_path in os.listdir(raw_folder_path):\n",
    "        im_raw= PIL.Image.open(raw_folder_path+'//'+img_path)\n",
    "        adjusted= imageCropResize(im_raw,percent,dest_size)\n",
    "        image_name= os.path.splitext(img_path)[0]\n",
    "        adjusted.save(dest_folder_path+'//'+image_name+'.png',\"PNG\")\n",
    "        \n",
    "\n",
    "def add_result(info):\n",
    "    \"\"\"\n",
    "    @param: info   list object with 9 cells: \n",
    "                    #comment\tmodel_comment\tdate_time\n",
    "                    batch\t    learning_rate\tepochs\n",
    "                    time_miliseconds\taccuracy\trecall\n",
    "    Result: writes the result for this model, to a new row in my results CSV file\n",
    "    \"\"\"\n",
    "    assert len(info) == len(Results_head)\n",
    "\n",
    "    #  save to csv (append new lines)\n",
    "    file = open(Results_File_Path, 'a', newline='')\n",
    "    with file:\n",
    "        writer = csv.writer(file)\n",
    "        writer.writerow(info)        \n",
    "        \n",
    "        \n",
    "        \n",
    "def show_random_from_list(in_list, amount=5):\n",
    "    \"\"\"\n",
    "    @param: amount    amount of images to display\n",
    "    @param: in_list   list\n",
    "    \n",
    "    Return: shows random images  at the length of \"amount\" from a certain list\n",
    "    \"\"\"\n",
    "    assert in_list!=None\n",
    "    if amount==0:\n",
    "        return\n",
    "    elif amount > len(in_list):\n",
    "        amount= len(in_list)\n",
    "    \n",
    "    path_list= random.sample(in_list,k=amount)\n",
    "    \n",
    "    \n",
    "    images = [PIL.Image.open(path).convert(\"L\") for path in path_list ]\n",
    "    np_images = [ np.asarray(im) for im in images ]\n",
    "\n",
    "\n",
    "    n_cols= len(path_list)\n",
    "\n",
    "\n",
    "    fig, axarr = plt.subplots(ncols=n_cols, squeeze=False,figsize=(10, 10))\n",
    "    fig.subplots_adjust(wspace=0.3, hspace=0.2)\n",
    "    for col in range(0,n_cols):\n",
    "        axarr[0][col].axis('off')  # Turn off tick labels\n",
    "        axarr[0][col].imshow(np_images[col], cmap='gray', vmin=0, vmax=255) #keep same image colors\n",
    "    \n",
    "    return path_list\n",
    "        \n",
    "      \n",
    "def cv_model_scale_neighbors(scale=1,minNeighbors=3):\n",
    "    \"\"\"\n",
    "    modifying scale and minNeighbors to see how it effects the results\n",
    "        \n",
    "    \"\"\"\n",
    "    now_time_date = datetime.datetime.now()\n",
    "    model_path= Models_Dir + '//' + 'haarcascade_frontalface_default.xml'\n",
    "    classifier = cv2.CascadeClassifier(model_path)\n",
    "    \n",
    "    curr_time_date= str(now_time_date.strftime(\"%x\") + ' ' + now_time_date.strftime(\"%X\"))\n",
    "    res_line=[\"tested on all samples,no split\",\n",
    "              f'Pretrained\\n cv2.CascadeClassifier(haarcascade_frontalface_default.xml)\\nscale_{scale} MinNeighbors_{minNeighbors}',\n",
    "              curr_time_date, \"-\",\"-\",\"-\"]     \n",
    "\n",
    "    timings=[]\n",
    "    pos_correct=0  \n",
    "    neg_correct=0\n",
    "    \n",
    "    #check negatives\n",
    "    for image_path in os.listdir(Neg_Dir):\n",
    "        neg_image_path= Neg_Dir + '\\\\' + image_path\n",
    "        pixels = cv2.imread(neg_image_path)\n",
    "        if scale==1:\n",
    "            start = int(timeit.time.time() * 1000)\n",
    "            bboxes = classifier.detectMultiScale(pixels,minNeighbors=minNeighbors)\n",
    "            end= int(timeit.time.time() * 1000)\n",
    "            timings.append( end - start )\n",
    "        else:\n",
    "            start = int(timeit.time.time() * 1000)\n",
    "            bboxes = classifier.detectMultiScale(pixels,scale,minNeighbors)\n",
    "            end= int(timeit.time.time() * 1000)\n",
    "            timings.append( end - start )\n",
    "        if len(bboxes)==0:\n",
    "            neg_correct+=1\n",
    "    \n",
    "    #check positives\n",
    "    for image_path in os.listdir(Pos_Dir):\n",
    "        pos_image_path= Pos_Dir + '\\\\' + image_path\n",
    "        pixels = cv2.imread(pos_image_path)\n",
    "        if scale==1:\n",
    "            start = int(timeit.time.time() * 1000)\n",
    "            bboxes = classifier.detectMultiScale(pixels,minNeighbors=minNeighbors)\n",
    "            end= int(timeit.time.time() * 1000)\n",
    "            timings.append( end - start )\n",
    "        else:\n",
    "            start = int(timeit.time.time() * 1000)\n",
    "            bboxes = classifier.detectMultiScale(pixels,scale,minNeighbors)\n",
    "            end= int(timeit.time.time() * 1000)\n",
    "            timings.append( end - start )\n",
    "\n",
    "        if len(bboxes) == 1:\n",
    "            pos_correct+=1\n",
    "\n",
    "    avg_pred_time= sum(timings)/len(timings)\n",
    "\n",
    "    res_line.append(avg_pred_time)\n",
    "\n",
    "    total= len(os.listdir(Neg_Dir)) + len(os.listdir(Pos_Dir))\n",
    "    total_correct= neg_correct + pos_correct\n",
    "    accuracy= total_correct * 100 / total\n",
    "\n",
    "    res_line.append(accuracy)\n",
    "\n",
    "    recall= pos_correct * 100 / len(os.listdir(Pos_Dir))\n",
    "    res_line.append(recall)\n",
    "    add_result(res_line)\n",
    "    \n",
    "    \n",
    "# gather stats\n",
    "def append_stats(res_line, timings, Neg_Dir, Pos_Dir, neg_correct, pos_correct ):\n",
    "    \"\"\"\n",
    "    @param: res_line list object to append stats\n",
    "    @param: timings  list with timings for predictions\n",
    "    @param: Neg_Dir  negatives dir path with images\n",
    "    @param: Pos_Dir  positives dir path with images\n",
    "    @param: neg_correct  number of correct predictions for negatives\n",
    "    @param: pos_correct  number of correct predictions for positives\n",
    "    \n",
    "    Note that res_line should already exsit!\n",
    "    \"\"\"\n",
    "    assert res_line != None\n",
    "    \n",
    "    avg_pred_time= sum(timings)/len(timings)\n",
    "    res_line.append(avg_pred_time)\n",
    "    total= len(os.listdir(Neg_Dir)) + len(os.listdir(Pos_Dir))\n",
    "    total_correct= neg_correct + pos_correct\n",
    "    accuracy= total_correct * 100 / total\n",
    "    res_line.append(accuracy)\n",
    "    recall= pos_correct * 100 / len(os.listdir(Pos_Dir))   \n",
    "    res_line.append(recall)  \n",
    "        \n",
    "    false_positive= len(os.listdir(Neg_Dir)) - neg_correct\n",
    "    precision= (pos_correct / (false_positive + pos_correct) ) * 100\n",
    "    res_line.append(precision)\n",
    "    \n",
    "    \n",
    "def save_Falses(Wrong_Dir,model_name,false_predictions):\n",
    "    save_path= Wrong_Dir + '//' + model_name\n",
    "    with open(save_path, 'wb') as handle:\n",
    "        pkl.dump(false_predictions, handle)    \n",
    "        \n",
    "        \n",
    "        \n",
    "def test_mtcnn(scale=0.709):\n",
    "    now_time_date = datetime.datetime.now()\n",
    "    model=mtcnn.MTCNN(scale_factor=scale)\n",
    "    model_name= f'mtcnn_scale_{scale}'\n",
    "    curr_time_date= str(now_time_date.strftime(\"%x\") + ' ' + now_time_date.strftime(\"%X\"))\n",
    "    res_line=[\"tested on all samples,no split\",\n",
    "              f'Pretrained\\n {model_name}',\n",
    "              curr_time_date, \"-\",\"-\",\"-\"]     \n",
    "\n",
    "    timings=[]\n",
    "    false_predictions=[]\n",
    "    pos_correct=0  \n",
    "    neg_correct=0\n",
    "\n",
    "    for image_path in os.listdir(Neg_Dir):\n",
    "        neg_image_path= Neg_Dir + '\\\\' + image_path\n",
    "\n",
    "        image = PIL.Image.open(neg_image_path)\n",
    "        image = image.convert('RGB')\n",
    "        pixels = np.asarray(image)\n",
    "\n",
    "        start = int(timeit.time.time() * 1000)\n",
    "        faces = model.detect_faces(pixels)\n",
    "        end= int(timeit.time.time() * 1000)\n",
    "        timings.append( end - start )\n",
    "        if len(faces)!=0:\n",
    "            false_predictions.append(neg_image_path)\n",
    "        else:\n",
    "            neg_correct+=1    \n",
    "\n",
    "    for image_path in os.listdir(Pos_Dir):\n",
    "        pos_image_path= Pos_Dir + '\\\\' + image_path\n",
    "\n",
    "        image = PIL.Image.open(pos_image_path)\n",
    "        image = image.convert('RGB')\n",
    "        pixels = np.asarray(image)\n",
    "\n",
    "        start = int(timeit.time.time() * 1000)\n",
    "        faces = model.detect_faces(pixels)\n",
    "        end= int(timeit.time.time() * 1000)\n",
    "        timings.append( end - start )\n",
    "        if len(faces)==0:\n",
    "            false_predictions.append(pos_image_path)\n",
    "        else:\n",
    "            pos_correct+=1\n",
    "        \n",
    "        \n",
    "    append_stats(res_line, timings, Neg_Dir, Pos_Dir, neg_correct, pos_correct )\n",
    "    add_result(res_line)\n",
    "\n",
    "    save_Falses(Wrong_Dir,model_name,false_predictions)\n",
    "\n",
    "    #return list(false_predictions)\n",
    "    show_random_from_list(false_predictions,amount=5)        \n",
    "    \n",
    "    \n",
    "    \n",
    "\n",
    "# load and prepare an image\n",
    "def load_image_pixels(filename, shape):\n",
    "    \"\"\"\n",
    "    edited from open-source\n",
    "    \"\"\"\n",
    "    # load the image to get its shape\n",
    "    image = load_img(filename)\n",
    "    width, height = image.size\n",
    "    # load the image with the required size\n",
    "    image = load_img(filename, target_size=shape)\n",
    "    # convert to numpy array\n",
    "    image = img_to_array(image)\n",
    "    # scale pixel values to [0, 1]\n",
    "    image = image.astype('float32')\n",
    "    image /= 255.0\n",
    "    # add a dimension so that we have one sample\n",
    "    image = np.expand_dims(image, 0)\n",
    "    return image, width, height\n",
    "\n",
    "def test_YOLOv3():\n",
    "    now_time_date = datetime.datetime.now()\n",
    "    model = load_model(Models_Dir +'//'+ 'yoloV3.h5')\n",
    "    input_w, input_h = 416, 416\n",
    "    \n",
    "    model_name= f'YOLOv3'\n",
    "    curr_time_date= str(now_time_date.strftime(\"%x\") + ' ' + now_time_date.strftime(\"%X\"))\n",
    "    res_line=[\"tested on all samples,no split\",\n",
    "              f'Pretrained\\n {model_name}',\n",
    "              curr_time_date, \"-\",\"-\",\"-\"]     \n",
    "\n",
    "    timings=[]\n",
    "    false_predictions=[]\n",
    "    pos_correct=0  \n",
    "    neg_correct=0\n",
    "\n",
    "    keep_track=0\n",
    "    # TODO could make a functions instead of 2 for loops..\n",
    "    for image_path in os.listdir(Neg_Dir):\n",
    "        keep_track+=1\n",
    "        if keep_track % 25 == 0:\n",
    "            print(keep_track, end=' ')\n",
    "        \n",
    "        neg_image_path= Neg_Dir + '\\\\' + image_path\n",
    "\n",
    "        image, image_w, image_h = load_image_pixels(neg_image_path, (input_w, input_h))\n",
    "\n",
    "        start = int(timeit.time.time() * 1000)\n",
    "        faces = model.predict(image)\n",
    "        end= int(timeit.time.time() * 1000)\n",
    "        timings.append( end - start )\n",
    "        if len(faces)!=0:\n",
    "            false_predictions.append(neg_image_path)\n",
    "        else:\n",
    "            neg_correct+=1    \n",
    "\n",
    "    for image_path in os.listdir(Pos_Dir):\n",
    "        keep_track+=1\n",
    "        if keep_track % 25 == 0:\n",
    "            print(keep_track, end=' ')\n",
    "        \n",
    "        pos_image_path= Pos_Dir + '\\\\' + image_path\n",
    "\n",
    "        image, image_w, image_h = load_image_pixels(pos_image_path, (input_w, input_h))\n",
    "\n",
    "        start = int(timeit.time.time() * 1000)\n",
    "        faces = model.predict(image)\n",
    "        end= int(timeit.time.time() * 1000)\n",
    "        timings.append( end - start )\n",
    "        if len(faces)==0:\n",
    "            false_predictions.append(pos_image_path)\n",
    "        else:\n",
    "            pos_correct+=1\n",
    "        \n",
    "        \n",
    "    append_stats(res_line, timings, Neg_Dir, Pos_Dir, neg_correct, pos_correct )\n",
    "    add_result(res_line)\n",
    "\n",
    "    save_Falses(Wrong_Dir,model_name,false_predictions)\n",
    "\n",
    "    #return list(false_predictions)\n",
    "    show_random_from_list(false_predictions,amount=5)     \n",
    "    \n",
    "\n",
    "def update_pred_result_sanityCheck(dir_type, curr_dir, model, timings, false_predictions):\n",
    "    \"\"\"\n",
    "    checking what happens when restoring normal lines of code. without changes.\n",
    "    \n",
    "    \"\"\"\n",
    "    num_correct= 0\n",
    "    \n",
    "    for image_path in os.listdir(curr_dir):\n",
    "        curr_image_path= curr_dir + '\\\\' + image_path\n",
    "\n",
    "        image = PIL.Image.open(curr_image_path)\n",
    "        image = image.convert('RGB')\n",
    "        pixels = np.asarray(image)\n",
    "\n",
    "        start = int(timeit.time.time() * 1000)\n",
    "        face = model.detect_faces(pixels)\n",
    "        end= int(timeit.time.time() * 1000)\n",
    "        timings.append( end - start )\n",
    "                \n",
    "        if (dir_type== DirType.Positive):\n",
    "            if len(face)>0:\n",
    "                num_correct+=1 \n",
    "            else:\n",
    "                false_predictions.append(curr_image_path)\n",
    "        else:\n",
    "            \n",
    "            if len(face)>0==0:\n",
    "                num_correct+=1 \n",
    "            else:\n",
    "                false_predictions.append(curr_image_path)\n",
    "        \n",
    "    return num_correct    \n",
    "\n",
    "\n",
    "def test_Bmtcnn(scale_factor=0.709):\n",
    "    now_time_date = datetime.datetime.now()\n",
    "    model= Bmtcnn.BMTCNN(scale_factor=scale_factor)\n",
    "    model_name= f'Bmtcnn_scale_{scale_factor}'\n",
    "    curr_time_date= str(now_time_date.strftime(\"%x\") + ' ' + now_time_date.strftime(\"%X\"))\n",
    "    res_line=[\"tested on all samples,no split\",\n",
    "              f'Pretrained\\n {model_name}',\n",
    "              curr_time_date, \"-\",\"-\",\"-\"]     \n",
    "\n",
    "    timings=[]\n",
    "    false_predictions=[]\n",
    "    \n",
    "\n",
    "    #neg_correct= update_pred_result(DirType(0), Neg_Dir, model, timings, false_predictions)\n",
    "    neg_correct= update_pred_result_sanityCheck(DirType(0), Neg_Dir, model, timings, false_predictions)\n",
    "    #pos_correct= update_pred_result(DirType(1), Pos_Dir, model, timings, false_predictions)\n",
    "    pos_correct= update_pred_result_sanityCheck(DirType(1), Pos_Dir, model, timings, false_predictions)\n",
    "    \n",
    "    append_stats(res_line, timings, Neg_Dir, Pos_Dir, neg_correct, pos_correct )\n",
    "    add_result(res_line)\n",
    "\n",
    "    save_Falses(Wrong_Dir,model_name,false_predictions)\n",
    "\n",
    "    show_random_from_list(false_predictions,amount=5)  \n",
    "    \n",
    "\n",
    "def draw_image_with_boxes(filename, result_list):\n",
    "    \"\"\"\n",
    "    edited from func found on web\n",
    "    \"\"\"\n",
    "    # load the image\n",
    "    data = plt.imread(filename)\n",
    "    # plot the image\n",
    "    plt.imshow(data,cmap='gray', vmin=0, vmax=1)  \n",
    "    # get the context for drawing boxes\n",
    "    ax = plt.gca()\n",
    "    # plot each box\n",
    "    for result in result_list:\n",
    "        # get coordinates\n",
    "        x, y, width, height = result['box']\n",
    "        # create the shape\n",
    "        rect = Rectangle((x, y), width, height, fill=False, color='red')\n",
    "        # draw the box\n",
    "        ax.add_patch(rect)\n",
    "        # draw the dots\n",
    "        for key, value in result['keypoints'].items():\n",
    "            # create and draw dot  \n",
    "            if value[0]>data.shape[0] or value[1]>data.shape[1] or value[0]<0 or value[1]<0:\n",
    "                print(colored(f\"key {str(key).upper()}  value {value} out of picture\",'green'))   \n",
    "            else:\n",
    "                print(f\"key {key}  value {value}\",end= ' ')\n",
    "                     \n",
    "            dot = Circle(value, radius=1, color='red',alpha=0.5)\n",
    "            ax.add_patch(dot)\n",
    "    # show the plot\n",
    "    plt.show()\n",
    "    \n",
    "    \n",
    "def update_pred_result_Pmtcnn(dir_type, curr_dir, model, timings, false_predictions):\n",
    "    \"\"\"\n",
    "    checking what happens when restoring normal lines of code. without changes.\n",
    "    \n",
    "    \"\"\"\n",
    "    num_correct= 0\n",
    "    \n",
    "    for image_path in os.listdir(curr_dir):\n",
    "        curr_image_path= curr_dir + '\\\\' + image_path\n",
    "\n",
    "        image = PIL.Image.open(curr_image_path)\n",
    "\n",
    "        start = int(timeit.time.time() * 1000)\n",
    "        result = model.transform_detect_aligned(image)\n",
    "        end= int(timeit.time.time() * 1000)\n",
    "        timings.append( end - start )\n",
    "                \n",
    "        if ( ((dir_type== DirType.Positive) and (result==True) ) or\n",
    "            (((dir_type== DirType.Negative))and (result==False))):\n",
    "            \n",
    "            num_correct+=1 \n",
    "        else:\n",
    "            false_predictions.append(curr_image_path)\n",
    "\n",
    "    return num_correct    \n",
    "\n",
    "\n",
    "def test_Pmtcnn(scale_factor=0.709):\n",
    "    now_time_date = datetime.datetime.now()\n",
    "    model= Pmtcnn(scale_factor=scale_factor)\n",
    "    model_name= f'Pmtcnn_scale_{scale_factor}'\n",
    "    curr_time_date= str(now_time_date.strftime(\"%x\") + ' ' + now_time_date.strftime(\"%X\"))\n",
    "    res_line=[\"tested on all samples,no split\",\n",
    "              f'Pretrained\\n {model_name}',\n",
    "              curr_time_date, \"-\",\"-\",\"-\"]     \n",
    "\n",
    "    timings=[]\n",
    "    false_predictions=[]\n",
    "    \n",
    "    neg_correct= update_pred_result_Pmtcnn(DirType(0), Neg_Dir, model, timings, false_predictions)\n",
    "               \n",
    "    pos_correct= update_pred_result_Pmtcnn(DirType(1), Pos_Dir, model, timings, false_predictions)\n",
    "    \n",
    "    \n",
    "    append_stats(res_line, timings, Neg_Dir, Pos_Dir, neg_correct, pos_correct )\n",
    "    add_result(res_line)\n",
    "\n",
    "    save_Falses(Wrong_Dir,model_name,false_predictions)\n",
    "\n",
    "    show_random_from_list(false_predictions,amount=5)  \n",
    "    \n",
    "    \n",
    "def copy_to_data_generator_structure():\n",
    "    \"\"\"\n",
    "    was used once to create the structure for ImageDataGenerator\n",
    "    \"\"\"\n",
    "\n",
    "    train_sample_size= int(len(os.listdir(Pos_Dir)) * 80 / 100)\n",
    "\n",
    "\n",
    "    neg_images=[]\n",
    "    for image_path in os.listdir(Neg_Dir):\n",
    "        neg_images.append(Neg_Dir + '\\\\' + image_path)\n",
    "    pos_images=[]\n",
    "    for image_path in os.listdir(Pos_Dir):\n",
    "        pos_images.append(Pos_Dir + '\\\\' + image_path)    \n",
    "\n",
    "    neg_copy= set(random.sample(neg_images,train_sample_size))\n",
    "    pos_copy= set(random.sample(pos_images,train_sample_size))\n",
    "\n",
    "    val_neg= set(neg_images) - neg_copy\n",
    "    val_pos= set(pos_images) - pos_copy\n",
    "\n",
    "    for path in neg_copy:\n",
    "        dest_img_path= \"data\\\\train\\\\negative\"\n",
    "        path=Path(path)\n",
    "        img_dst_path= dest_img_path+\"\\\\\"+str(path.stem)+\".png\"\n",
    "        copyfile(path, img_dst_path)\n",
    "\n",
    "    for path in pos_copy:\n",
    "        dest_img_path= \"data\\\\train\\\\aligned\"\n",
    "        path=Path(path)\n",
    "        img_dst_path= dest_img_path+\"\\\\\"+str(path.stem)+\".png\"\n",
    "        copyfile(path, img_dst_path)\n",
    "\n",
    "    ## validation\n",
    "    for path in val_neg:\n",
    "        dest_img_path= \"data\\\\validation\\\\negative\"\n",
    "        path=Path(path)\n",
    "        img_dst_path= dest_img_path+\"\\\\\"+str(path.stem)+\".png\"\n",
    "        copyfile(path, img_dst_path)\n",
    "\n",
    "    for path in val_pos:\n",
    "        dest_img_path= \"data\\\\validation\\\\aligned\"\n",
    "        path=Path(path)\n",
    "        #Path(dest_img_path).mkdir(parents=True, exist_ok=True) #create missing parent directories\n",
    "        img_dst_path= dest_img_path+\"\\\\\"+str(path.stem)+\".png\"\n",
    "        copyfile(path, img_dst_path)\n",
    "\n",
    "    ## verifying model functions\n",
    "    \n",
    "def test_cvlib(threshold=0.5):\n",
    "    now_time_date = datetime.datetime.now()\n",
    "    #model=mtcnn.MTCNN(scale_factor=scale)\n",
    "    model_name= f'cvlib_threshold_{threshold}'\n",
    "    curr_time_date= str(now_time_date.strftime(\"%x\") + ' ' + now_time_date.strftime(\"%X\"))\n",
    "    res_line=[\"tested on all samples,no split\",\n",
    "              f'Pretrained\\n {model_name}',\n",
    "              curr_time_date, \"-\",\"-\",\"-\"]     \n",
    "\n",
    "    timings=[]\n",
    "    false_predictions=[]\n",
    "    pos_correct=0  \n",
    "    neg_correct=0\n",
    "\n",
    "    for image_path in os.listdir(Neg_Dir):\n",
    "        neg_image_path= Neg_Dir + '\\\\' + image_path\n",
    "\n",
    "        image = PIL.Image.open(neg_image_path)\n",
    "        image = image.convert('RGB')\n",
    "        pixels = np.asarray(image)\n",
    "\n",
    "        start = int(timeit.time.time() * 1000)\n",
    "        faces, confidences = cvlib.detect_face(pixels,threshold=threshold)\n",
    "        end= int(timeit.time.time() * 1000)\n",
    "        timings.append( end - start )\n",
    "        if len(faces)!=0:\n",
    "            false_predictions.append(neg_image_path)\n",
    "        else:\n",
    "            neg_correct+=1    \n",
    "\n",
    "    for image_path in os.listdir(Pos_Dir):\n",
    "        pos_image_path= Pos_Dir + '\\\\' + image_path\n",
    "\n",
    "        image = PIL.Image.open(pos_image_path)\n",
    "        image = image.convert('RGB')\n",
    "        pixels = np.asarray(image)\n",
    "\n",
    "        start = int(timeit.time.time() * 1000)\n",
    "        faces, confidences = cvlib.detect_face(pixels,threshold=threshold)\n",
    "        end= int(timeit.time.time() * 1000)\n",
    "        timings.append( end - start )\n",
    "        if len(faces)==0:\n",
    "            false_predictions.append(pos_image_path)\n",
    "        else:\n",
    "            pos_correct+=1\n",
    "\n",
    "\n",
    "    append_stats(res_line, timings, Neg_Dir, Pos_Dir, neg_correct, pos_correct )\n",
    "    add_result(res_line)\n",
    "\n",
    "    save_Falses(Wrong_Dir,model_name,false_predictions)\n",
    "\n",
    "    #return list(false_predictions)\n",
    "    show_random_from_list(false_predictions,amount=5)    \n",
    "    \n",
    "\n",
    "def update_pred_result_haarCascade(dir_type, curr_dir, model, timings, false_predictions):\n",
    "    \"\"\"\n",
    "    checking what happens when restoring normal lines of code. without changes.\n",
    "    \n",
    "    \"\"\"\n",
    "    num_correct= 0\n",
    "    \n",
    "    for image_path in os.listdir(curr_dir):\n",
    "        curr_image_path= curr_dir + '\\\\' + image_path\n",
    "\n",
    "        pixels = cv2.imread(curr_image_path)\n",
    "\n",
    "        start = int(timeit.time.time() * 1000)\n",
    "        result = model.transform_predict(pixels)\n",
    "        end= int(timeit.time.time() * 1000)\n",
    "        timings.append( end - start )\n",
    "                \n",
    "        if ( ((dir_type== DirType.Positive) and (result==True) ) or\n",
    "            (((dir_type== DirType.Negative))and (result==False))):\n",
    "            \n",
    "            num_correct+=1 \n",
    "        else:\n",
    "            false_predictions.append(curr_image_path)\n",
    "\n",
    "    return num_correct    \n",
    "    \n",
    "\n",
    "def test_haarCascade():\n",
    "    now_time_date = datetime.datetime.now()\n",
    "    model= Model_cv2_haarcascade()\n",
    "    model_name= f'cv2_haarCascade_scale_{model.scale}_minNeighbors_{model.minNeighbors}'\n",
    "    curr_time_date= str(now_time_date.strftime(\"%x\") + ' ' + now_time_date.strftime(\"%X\"))\n",
    "    res_line=[\"tested on all samples,no split\",\n",
    "              f'Pretrained\\n {model_name}',\n",
    "              curr_time_date, \"-\",\"-\",\"-\"]     \n",
    "\n",
    "    timings=[]\n",
    "    false_predictions=[]\n",
    "    \n",
    "    neg_correct= update_pred_result_haarCascade(DirType(0), Neg_Dir, model, timings, false_predictions)\n",
    "               \n",
    "    pos_correct= update_pred_result_haarCascade(DirType(1), Pos_Dir, model, timings, false_predictions)\n",
    "    \n",
    "    \n",
    "    append_stats(res_line, timings, Neg_Dir, Pos_Dir, neg_correct, pos_correct )\n",
    "    add_result(res_line)\n",
    "\n",
    "    save_Falses(Wrong_Dir,model_name,false_predictions)\n",
    "\n",
    "    show_random_from_list(false_predictions,amount=5)  \n",
    "\n",
    "    \n",
    "### next 3 functions were taken from web\n",
    "def recall_m(y_true, y_pred):\n",
    "    true_positives = K.sum(K.round(K.clip(y_true * y_pred, 0, 1)))\n",
    "    possible_positives = K.sum(K.round(K.clip(y_true, 0, 1)))\n",
    "    recall = true_positives / (possible_positives + K.epsilon())\n",
    "    return recall\n",
    "\n",
    "def precision_m(y_true, y_pred):\n",
    "    true_positives = K.sum(K.round(K.clip(y_true * y_pred, 0, 1)))\n",
    "    predicted_positives = K.sum(K.round(K.clip(y_pred, 0, 1)))\n",
    "    precision = true_positives / (predicted_positives + K.epsilon())\n",
    "    return precision\n",
    "\n",
    "def f1_m(y_true, y_pred):\n",
    "    precision = precision_m(y_true, y_pred)\n",
    "    recall = recall_m(y_true, y_pred)\n",
    "    return 2*((precision*recall)/(precision+recall+K.epsilon()))    "
   ]
  },
  {
   "cell_type": "code",
   "execution_count": null,
   "metadata": {},
   "outputs": [],
   "source": [
    "model= Bmtcnn.BMTCNN()"
   ]
  },
  {
   "cell_type": "code",
   "execution_count": null,
   "metadata": {},
   "outputs": [],
   "source": [
    "neg_image_path = Neg_Dir + '\\\\' + random.choice(os.listdir(Neg_Dir))\n",
    "neg_image_path"
   ]
  },
  {
   "cell_type": "code",
   "execution_count": null,
   "metadata": {},
   "outputs": [],
   "source": [
    "pos_image_path = Pos_Dir + '\\\\' + random.choice(os.listdir(Pos_Dir))\n",
    "pos_image_path"
   ]
  },
  {
   "cell_type": "code",
   "execution_count": null,
   "metadata": {},
   "outputs": [],
   "source": [
    "image = PIL.Image.open(neg_image_path)\n",
    "image = image.convert('RGB')\n",
    "pixels = np.asarray(image)\n",
    "\n",
    "detections = model.detect_faces(pixels)\n",
    "detections\n",
    "   "
   ]
  },
  {
   "cell_type": "code",
   "execution_count": null,
   "metadata": {},
   "outputs": [],
   "source": [
    "import mtcnn\n",
    "\n",
    "for scale_factor in [0.60,0.65,0.7,0.75,0.80]:\n",
    "    test_Bmtcnn(scale_factor)\n",
    "    print(scale_factor, end= ' ')\n",
    "\n",
    "for scale_factor in [0.60,0.65,0.7,0.75,0.80]:\n",
    "    test_mtcnn(scale_factor)\n",
    "    print(scale_factor, end= ' ')"
   ]
  },
  {
   "cell_type": "code",
   "execution_count": null,
   "metadata": {},
   "outputs": [],
   "source": [
    "res= pd.read_csv(Results_File_Path)\n",
    "curr_res=res.tail(n=10)\n",
    "curr_res.head(n=10)"
   ]
  },
  {
   "cell_type": "code",
   "execution_count": null,
   "metadata": {},
   "outputs": [],
   "source": [
    "scale_factor=[0.60,0.65,0.7,0.75,0.80]\n",
    "models=['Bmtcnn inner if len(...)>0','mtcnn']\n",
    "times_Bmtcnn= curr_res.loc[42:46,['time_ms']]\n",
    "times_mtcnn= curr_res.loc[47:,['time_ms']]\n",
    "times= [times_Bmtcnn,times_mtcnn ]\n",
    "\n",
    "colors= ['b','g']\n",
    "\n",
    "plt.figure(figsize=(25,5))\n",
    "ax_2 = plt.subplot(133)\n",
    "ax_2.set_ylim([10, 70])\n",
    "for i in range(0,len(colors)):   \n",
    "    # print(categories, res[i], colors[i],models[i])\n",
    "    \n",
    "    plt.plot(scale_factor, times[i], color=colors[i], label=models[i])\n",
    "\n",
    "ax_2.set_title('MTCNN model variations',c='w')\n",
    "ax_2.set_ylabel('Prediction Time  [ms]', fontsize=12,c='w')\n",
    "ax_2.set_xlabel('scale_factor', fontsize=12,c='w')\n",
    "ax_2.tick_params(axis='y', colors='w')\n",
    "ax_2.tick_params(axis='x', colors='w')\n",
    "\n",
    "\n",
    "plt.legend(loc='lower right')\n",
    "#plt.tight_layout()\n",
    "# plt.savefig('images/spectral_centroids-Pos_vs_Neg.jpeg', bbox_inches='tight')\n",
    "plt.show()"
   ]
  },
  {
   "cell_type": "code",
   "execution_count": null,
   "metadata": {},
   "outputs": [],
   "source": [
    "#sanity check- restored modified lines.\n",
    "for scale_factor in [0.60,0.65,0.7,0.75,0.80]:\n",
    "    test_Bmtcnn(scale_factor)\n",
    "    print(scale_factor, end= ' ')"
   ]
  },
  {
   "cell_type": "code",
   "execution_count": null,
   "metadata": {
    "scrolled": true
   },
   "outputs": [],
   "source": [
    "res= pd.read_csv(Results_File_Path)\n",
    "curr_res=res.tail(n=15)\n",
    "curr_res.head(n=15)\n",
    "\n"
   ]
  },
  {
   "cell_type": "code",
   "execution_count": null,
   "metadata": {},
   "outputs": [],
   "source": [
    "scale_factor=[0.60,0.65,0.7,0.75,0.80]\n",
    "models=['Bmtcnn inner if len(...)>0','mtcnn site_packages import', 'mtcnn local import']\n",
    "times_Bmtcnn= curr_res.loc[42:46,['time_ms']]\n",
    "times_mtcnn= curr_res.loc[47:51,['time_ms']]\n",
    "times_mtcnn_myfolder= curr_res.loc[52:,['time_ms']]\n",
    "times= [times_Bmtcnn,times_mtcnn,times_mtcnn_myfolder ]\n",
    "\n",
    "colors= ['b','g','r']\n",
    "\n",
    "plt.figure(figsize=(25,5))\n",
    "ax_2 = plt.subplot(133)\n",
    "ax_2.set_ylim([10, 70])\n",
    "for i in range(0,len(colors)):   \n",
    "    # print(categories, res[i], colors[i],models[i])\n",
    "    \n",
    "    plt.plot(scale_factor, times[i], color=colors[i], label=models[i])\n",
    "\n",
    "ax_2.set_title('MTCNN model variations',c='w')\n",
    "ax_2.set_ylabel('Prediction Time  [ms]', fontsize=12,c='w')\n",
    "ax_2.set_xlabel('scale_factor', fontsize=12,c='w')\n",
    "ax_2.tick_params(axis='y', colors='w')\n",
    "ax_2.tick_params(axis='x', colors='w')\n",
    "\n",
    "\n",
    "plt.legend(loc='lower right')\n",
    "#plt.tight_layout()\n",
    "# plt.savefig('images/spectral_centroids-Pos_vs_Neg.jpeg', bbox_inches='tight')\n",
    "plt.show()"
   ]
  },
  {
   "cell_type": "code",
   "execution_count": null,
   "metadata": {},
   "outputs": [],
   "source": []
  },
  {
   "cell_type": "markdown",
   "metadata": {},
   "source": [
    "checking the landmarks in the negatives, trying to see what is the landmark when there is no \"mouth\"/\"eye\"/etc."
   ]
  },
  {
   "cell_type": "code",
   "execution_count": null,
   "metadata": {
    "scrolled": true
   },
   "outputs": [],
   "source": [
    "# draw wrond predictions with landmarks\n",
    "with open(Wrong_Dir+'//'+'mtcnn_scale_0.6','rb') as handle:\n",
    "    wrond_prediction_paths= pkl.load(handle)\n",
    "model= Bmtcnn.BMTCNN(scale_factor=0.6)\n",
    "for p in wrond_prediction_paths:\n",
    "    image = PIL.Image.open(p)\n",
    "    image = image.convert('RGB')\n",
    "    pixels = np.asarray(image)\n",
    "    detections = model.detect_faces(pixels)\n",
    "    draw_image_with_boxes(p, detections)"
   ]
  },
  {
   "cell_type": "code",
   "execution_count": 84,
   "metadata": {},
   "outputs": [],
   "source": [
    "for scale_factor in [0.6,0.65,0.7,0.75,0.8]:\n",
    "    test_Pmtcnn(scale_factor)"
   ]
  },
  {
   "cell_type": "code",
   "execution_count": 91,
   "metadata": {},
   "outputs": [
    {
     "data": {
      "image/png": "[encoded data removed]",
      "text/plain": [
       "<Figure size 720x720 with 5 Axes>"
      ]
     },
     "metadata": {
      "needs_background": "light"
     },
     "output_type": "display_data"
    },
    {
     "data": {
      "image/png": "[encoded data removed]",
      "text/plain": [
       "<Figure size 720x720 with 5 Axes>"
      ]
     },
     "metadata": {
      "needs_background": "light"
     },
     "output_type": "display_data"
    }
   ],
   "source": [
    "test_Pmtcnn(0.6)\n",
    "test_mtcnn(0.6)\n"
   ]
  },
  {
   "cell_type": "code",
   "execution_count": null,
   "metadata": {},
   "outputs": [],
   "source": []
  },
  {
   "cell_type": "code",
   "execution_count": 96,
   "metadata": {},
   "outputs": [
    {
     "data": {
      "image/png": "[encoded data removed]",
      "text/plain": [
       "<Figure size 1440x360 with 1 Axes>"
      ]
     },
     "metadata": {
      "needs_background": "dark"
     },
     "output_type": "display_data"
    }
   ],
   "source": [
    "res= pd.read_csv(Results_File_Path)\n",
    "res=res.tail(n=2)\n",
    "res_Pmtcnn= res.loc[res.index[-2],['time_ms','recall','precision']]\n",
    "res_mtcnn= res.loc[res.index[-1],['time_ms','recall','precision']]\n",
    "\n",
    "categories=['time_ms','recall','precision']\n",
    "models=['Pmtcnn', 'mtcnn']\n",
    "\n",
    "results= [res_Pmtcnn, res_mtcnn]\n",
    "\n",
    "colors= ['b', 'g']\n",
    "\n",
    "plt.figure(figsize=(20,5))\n",
    "ax_2 = plt.subplot(133)\n",
    "ax_2.set_ylim([10, 105])\n",
    "for i in range(0,len(colors)):   \n",
    "    # print(categories, res[i], colors[i],models[i])\n",
    "    \n",
    "    plt.plot(categories, results[i], color=colors[i], label=models[i])\n",
    "\n",
    "ax_2.set_title('Pmtcnn VS mtcnn',c='w')\n",
    "ax_2.set_ylabel('Categories', fontsize=12,c='w')\n",
    "ax_2.set_xlabel('Value', fontsize=12,c='w')\n",
    "ax_2.tick_params(axis='y', colors='w')\n",
    "ax_2.tick_params(axis='x', colors='w')\n",
    "\n",
    "\n",
    "plt.legend(loc='lower right')\n",
    "#plt.tight_layout()\n",
    "# plt.savefig('images/spectral_centroids-Pos_vs_Neg.jpeg', bbox_inches='tight')\n",
    "plt.show()"
   ]
  },
  {
   "cell_type": "code",
   "execution_count": 143,
   "metadata": {},
   "outputs": [
    {
     "data": {
      "image/png": "[encoded data removed]",
      "text/plain": [
       "<Figure size 1440x360 with 1 Axes>"
      ]
     },
     "metadata": {
      "needs_background": "dark"
     },
     "output_type": "display_data"
    }
   ],
   "source": [
    "##cool and easy but doesnt look good with black background.\n",
    "# res.plot(x=\"model_comment\", y=['time_ms'], kind=\"bar\",grid=True,ylim=(15,20))\n",
    "# res.plot(x=\"model_comment\", y=['recall'], kind=\"bar\", grid=True,ylim=(99,100))\n",
    "# res.plot(x=\"model_comment\", y=['precision'], kind=\"bar\",grid=True,ylim=(99,100))\n",
    "\n",
    "\n",
    "res= pd.read_csv(Results_File_Path)\n",
    "res=res.tail(n=2)\n",
    "res_Pmtcnn= res.loc[res.index[-2],['recall','precision']] # ,\n",
    "res_mtcnn= res.loc[res.index[-1],['recall','precision']] #,'recall','precision'\n",
    "\n",
    "categories=['recall','precision']  # ,'recall','precision'\n",
    "models=['Pmtcnn', 'mtcnn']\n",
    "\n",
    "results= [res_Pmtcnn, res_mtcnn]\n",
    "\n",
    "colors= ['b', 'g']\n",
    "\n",
    "plt.figure(figsize=(20,5))\n",
    "ax_2 = plt.subplot(133)\n",
    "ax_2.set_ylim([98, 100])\n",
    "for i in range(0,len(colors)):   \n",
    "    # print(categories, res[i], colors[i],models[i])\n",
    "    size= 150-(i * 70 )\n",
    "    plt.scatter(categories, results[i], color=colors[i], label=models[i],s=size)\n",
    "\n",
    "\n",
    "ax_2.set_title('Pmtcnn VS mtcnn',c='w')\n",
    "ax_2.set_ylabel('Categories', fontsize=12,c='w')\n",
    "ax_2.set_xlabel('Value', fontsize=12,c='w')\n",
    "ax_2.tick_params(axis='y', colors='w')\n",
    "ax_2.tick_params(axis='x', colors='w')\n",
    "\n",
    "\n",
    "plt.legend(loc='lower right')\n",
    "#plt.tight_layout()\n",
    "# plt.savefig('images/spectral_centroids-Pos_vs_Neg.jpeg', bbox_inches='tight')\n",
    "plt.show()"
   ]
  },
  {
   "cell_type": "code",
   "execution_count": 167,
   "metadata": {
    "scrolled": true
   },
   "outputs": [
    {
     "name": "stdout",
     "output_type": "stream",
     "text": [
      "key left_eye  value (33, 27) key right_eye  value (50, 26) key nose  value (47, 39) key mouth_left  value (35, 49) key mouth_right  value (48, 48) "
     ]
    },
    {
     "data": {
      "image/png": "[encoded data removed]",
      "text/plain": [
       "<Figure size 432x288 with 1 Axes>"
      ]
     },
     "metadata": {
      "needs_background": "light"
     },
     "output_type": "display_data"
    },
    {
     "name": "stdout",
     "output_type": "stream",
     "text": [
      "key left_eye  value (30, 29) key right_eye  value (47, 26) key nose  value (44, 40) key mouth_left  value (33, 49) key mouth_right  value (48, 46) "
     ]
    },
    {
     "data": {
      "image/png": "[encoded data removed]",
      "text/plain": [
       "<Figure size 432x288 with 1 Axes>"
      ]
     },
     "metadata": {
      "needs_background": "light"
     },
     "output_type": "display_data"
    },
    {
     "data": {
      "image/png": "[encoded data removed]",
      "text/plain": [
       "<Figure size 432x288 with 1 Axes>"
      ]
     },
     "metadata": {
      "needs_background": "light"
     },
     "output_type": "display_data"
    },
    {
     "data": {
      "image/png": "[encoded data removed]",
      "text/plain": [
       "<Figure size 432x288 with 1 Axes>"
      ]
     },
     "metadata": {
      "needs_background": "light"
     },
     "output_type": "display_data"
    },
    {
     "data": {
      "image/png": "[encoded data removed]",
      "text/plain": [
       "<Figure size 432x288 with 1 Axes>"
      ]
     },
     "metadata": {
      "needs_background": "light"
     },
     "output_type": "display_data"
    },
    {
     "data": {
      "image/png": "[encoded data removed]",
      "text/plain": [
       "<Figure size 432x288 with 1 Axes>"
      ]
     },
     "metadata": {
      "needs_background": "light"
     },
     "output_type": "display_data"
    },
    {
     "data": {
      "image/png": "[encoded data removed]",
      "text/plain": [
       "<Figure size 432x288 with 1 Axes>"
      ]
     },
     "metadata": {
      "needs_background": "light"
     },
     "output_type": "display_data"
    }
   ],
   "source": [
    "# draw wrond predictions with landmarks\n",
    "with open(Wrong_Dir+'//'+'Pmtcnn_scale_0.6','rb') as handle:\n",
    "    wrond_prediction_paths= pkl.load(handle)\n",
    "model= mtcnn.MTCNN(scale_factor=0.6)\n",
    "for p in wrond_prediction_paths:\n",
    "    image = PIL.Image.open(p)\n",
    "    image = image.convert('RGB')\n",
    "    pixels = np.asarray(image)\n",
    "    detections = model.detect_faces(pixels)\n",
    "    draw_image_with_boxes(p, detections)"
   ]
  },
  {
   "cell_type": "markdown",
   "metadata": {},
   "source": [
    "try transfer learning on Pnet"
   ]
  },
  {
   "cell_type": "code",
   "execution_count": 184,
   "metadata": {},
   "outputs": [],
   "source": [
    "import pkg_resources\n",
    "from mtcnn.network.factory import NetworkFactory\n",
    "\n",
    "from keras.layers import Conv2D, Flatten, Dropout, MaxPooling2D, Activation,Dense\n",
    "from keras.models import Model\n",
    "from keras.preprocessing.image import ImageDataGenerator"
   ]
  },
  {
   "cell_type": "code",
   "execution_count": 240,
   "metadata": {},
   "outputs": [],
   "source": [
    "from keras import backend as K\n",
    "\n",
    "def recall_m(y_true, y_pred):\n",
    "    true_positives = K.sum(K.round(K.clip(y_true * y_pred, 0, 1)))\n",
    "    possible_positives = K.sum(K.round(K.clip(y_true, 0, 1)))\n",
    "    recall = true_positives / (possible_positives + K.epsilon())\n",
    "    return recall\n",
    "\n",
    "def precision_m(y_true, y_pred):\n",
    "    true_positives = K.sum(K.round(K.clip(y_true * y_pred, 0, 1)))\n",
    "    predicted_positives = K.sum(K.round(K.clip(y_pred, 0, 1)))\n",
    "    precision = true_positives / (predicted_positives + K.epsilon())\n",
    "    return precision\n",
    "\n",
    "def f1_m(y_true, y_pred):\n",
    "    precision = precision_m(y_true, y_pred)\n",
    "    recall = recall_m(y_true, y_pred)\n",
    "    return 2*((precision*recall)/(precision+recall+K.epsilon()))"
   ]
  },
  {
   "cell_type": "code",
   "execution_count": 13,
   "metadata": {},
   "outputs": [],
   "source": [
    "weights_file = pkg_resources.resource_stream('mtcnn', 'data/mtcnn_weights.npy')\n",
    "p_net, r_net, o_net = NetworkFactory().build_P_R_O_nets_from_file(weights_file)\n"
   ]
  },
  {
   "cell_type": "code",
   "execution_count": 14,
   "metadata": {},
   "outputs": [
    {
     "name": "stdout",
     "output_type": "stream",
     "text": [
      "Model: \"model_4\"\n",
      "__________________________________________________________________________________________________\n",
      "Layer (type)                    Output Shape         Param #     Connected to                     \n",
      "==================================================================================================\n",
      "input_4 (InputLayer)            (None, None, None, 3 0                                            \n",
      "__________________________________________________________________________________________________\n",
      "conv2d_13 (Conv2D)              (None, None, None, 1 280         input_4[0][0]                    \n",
      "__________________________________________________________________________________________________\n",
      "p_re_lu_13 (PReLU)              (None, None, None, 1 10          conv2d_13[0][0]                  \n",
      "__________________________________________________________________________________________________\n",
      "max_pooling2d_7 (MaxPooling2D)  (None, None, None, 1 0           p_re_lu_13[0][0]                 \n",
      "__________________________________________________________________________________________________\n",
      "conv2d_14 (Conv2D)              (None, None, None, 1 1456        max_pooling2d_7[0][0]            \n",
      "__________________________________________________________________________________________________\n",
      "p_re_lu_14 (PReLU)              (None, None, None, 1 16          conv2d_14[0][0]                  \n",
      "__________________________________________________________________________________________________\n",
      "conv2d_15 (Conv2D)              (None, None, None, 3 4640        p_re_lu_14[0][0]                 \n",
      "__________________________________________________________________________________________________\n",
      "p_re_lu_15 (PReLU)              (None, None, None, 3 32          conv2d_15[0][0]                  \n",
      "__________________________________________________________________________________________________\n",
      "conv2d_16 (Conv2D)              (None, None, None, 2 66          p_re_lu_15[0][0]                 \n",
      "__________________________________________________________________________________________________\n",
      "conv2d_17 (Conv2D)              (None, None, None, 4 132         p_re_lu_15[0][0]                 \n",
      "__________________________________________________________________________________________________\n",
      "softmax_4 (Softmax)             (None, None, None, 2 0           conv2d_16[0][0]                  \n",
      "==================================================================================================\n",
      "Total params: 6,632\n",
      "Trainable params: 6,632\n",
      "Non-trainable params: 0\n",
      "__________________________________________________________________________________________________\n"
     ]
    }
   ],
   "source": [
    "p_net.summary()  "
   ]
  },
  {
   "cell_type": "code",
   "execution_count": 176,
   "metadata": {},
   "outputs": [
    {
     "data": {
      "text/plain": [
       "9"
      ]
     },
     "execution_count": 176,
     "metadata": {},
     "output_type": "execute_result"
    }
   ],
   "source": [
    "len(p_net.layers)-2\n"
   ]
  },
  {
   "cell_type": "code",
   "execution_count": 289,
   "metadata": {
    "collapsed": true
   },
   "outputs": [
    {
     "ename": "AttributeError",
     "evalue": "'NoneType' object has no attribute '_inbound_nodes'",
     "output_type": "error",
     "traceback": [
      "\u001b[1;31m---------------------------------------------------------------------------\u001b[0m",
      "\u001b[1;31mAttributeError\u001b[0m                            Traceback (most recent call last)",
      "\u001b[1;32m<ipython-input-289-c95cc4d9878c>\u001b[0m in \u001b[0;36m<module>\u001b[1;34m\u001b[0m\n\u001b[0;32m      7\u001b[0m \u001b[0mmy_layers\u001b[0m \u001b[1;33m=\u001b[0m \u001b[0mDense\u001b[0m\u001b[1;33m(\u001b[0m\u001b[1;36m1\u001b[0m\u001b[1;33m,\u001b[0m\u001b[0mactivation\u001b[0m\u001b[1;33m=\u001b[0m\u001b[1;34m\"sigmoid\"\u001b[0m\u001b[1;33m)\u001b[0m\u001b[1;33m(\u001b[0m\u001b[0mmy_layers\u001b[0m\u001b[1;33m)\u001b[0m\u001b[1;33m\u001b[0m\u001b[1;33m\u001b[0m\u001b[0m\n\u001b[0;32m      8\u001b[0m \u001b[1;33m\u001b[0m\u001b[0m\n\u001b[1;32m----> 9\u001b[1;33m \u001b[0mnew_model\u001b[0m \u001b[1;33m=\u001b[0m \u001b[0mModel\u001b[0m\u001b[1;33m(\u001b[0m\u001b[0minputs\u001b[0m\u001b[1;33m=\u001b[0m\u001b[0mp_net\u001b[0m\u001b[1;33m.\u001b[0m\u001b[0minput\u001b[0m\u001b[1;33m,\u001b[0m\u001b[0moutputs\u001b[0m\u001b[1;33m=\u001b[0m\u001b[0mmy_layers\u001b[0m\u001b[1;33m)\u001b[0m\u001b[1;33m\u001b[0m\u001b[1;33m\u001b[0m\u001b[0m\n\u001b[0m\u001b[0;32m     10\u001b[0m \u001b[0mnew_model\u001b[0m\u001b[1;33m.\u001b[0m\u001b[0msummary\u001b[0m\u001b[1;33m(\u001b[0m\u001b[1;33m)\u001b[0m\u001b[1;33m\u001b[0m\u001b[1;33m\u001b[0m\u001b[0m\n",
      "\u001b[1;32m~\\Miniconda3\\lib\\site-packages\\keras\\legacy\\interfaces.py\u001b[0m in \u001b[0;36mwrapper\u001b[1;34m(*args, **kwargs)\u001b[0m\n\u001b[0;32m     89\u001b[0m                 warnings.warn('Update your `' + object_name + '` call to the ' +\n\u001b[0;32m     90\u001b[0m                               'Keras 2 API: ' + signature, stacklevel=2)\n\u001b[1;32m---> 91\u001b[1;33m             \u001b[1;32mreturn\u001b[0m \u001b[0mfunc\u001b[0m\u001b[1;33m(\u001b[0m\u001b[1;33m*\u001b[0m\u001b[0margs\u001b[0m\u001b[1;33m,\u001b[0m \u001b[1;33m**\u001b[0m\u001b[0mkwargs\u001b[0m\u001b[1;33m)\u001b[0m\u001b[1;33m\u001b[0m\u001b[1;33m\u001b[0m\u001b[0m\n\u001b[0m\u001b[0;32m     92\u001b[0m         \u001b[0mwrapper\u001b[0m\u001b[1;33m.\u001b[0m\u001b[0m_original_function\u001b[0m \u001b[1;33m=\u001b[0m \u001b[0mfunc\u001b[0m\u001b[1;33m\u001b[0m\u001b[1;33m\u001b[0m\u001b[0m\n\u001b[0;32m     93\u001b[0m         \u001b[1;32mreturn\u001b[0m \u001b[0mwrapper\u001b[0m\u001b[1;33m\u001b[0m\u001b[1;33m\u001b[0m\u001b[0m\n",
      "\u001b[1;32m~\\Miniconda3\\lib\\site-packages\\keras\\engine\\network.py\u001b[0m in \u001b[0;36m__init__\u001b[1;34m(self, *args, **kwargs)\u001b[0m\n\u001b[0;32m     92\u001b[0m                 'inputs' in kwargs and 'outputs' in kwargs):\n\u001b[0;32m     93\u001b[0m             \u001b[1;31m# Graph network\u001b[0m\u001b[1;33m\u001b[0m\u001b[1;33m\u001b[0m\u001b[1;33m\u001b[0m\u001b[0m\n\u001b[1;32m---> 94\u001b[1;33m             \u001b[0mself\u001b[0m\u001b[1;33m.\u001b[0m\u001b[0m_init_graph_network\u001b[0m\u001b[1;33m(\u001b[0m\u001b[1;33m*\u001b[0m\u001b[0margs\u001b[0m\u001b[1;33m,\u001b[0m \u001b[1;33m**\u001b[0m\u001b[0mkwargs\u001b[0m\u001b[1;33m)\u001b[0m\u001b[1;33m\u001b[0m\u001b[1;33m\u001b[0m\u001b[0m\n\u001b[0m\u001b[0;32m     95\u001b[0m         \u001b[1;32melse\u001b[0m\u001b[1;33m:\u001b[0m\u001b[1;33m\u001b[0m\u001b[1;33m\u001b[0m\u001b[0m\n\u001b[0;32m     96\u001b[0m             \u001b[1;31m# Subclassed network\u001b[0m\u001b[1;33m\u001b[0m\u001b[1;33m\u001b[0m\u001b[1;33m\u001b[0m\u001b[0m\n",
      "\u001b[1;32m~\\Miniconda3\\lib\\site-packages\\keras\\engine\\network.py\u001b[0m in \u001b[0;36m_init_graph_network\u001b[1;34m(self, inputs, outputs, name, **kwargs)\u001b[0m\n\u001b[0;32m    239\u001b[0m         \u001b[1;31m# Keep track of the network's nodes and layers.\u001b[0m\u001b[1;33m\u001b[0m\u001b[1;33m\u001b[0m\u001b[1;33m\u001b[0m\u001b[0m\n\u001b[0;32m    240\u001b[0m         nodes, nodes_by_depth, layers, layers_by_depth = _map_graph_network(\n\u001b[1;32m--> 241\u001b[1;33m             self.inputs, self.outputs)\n\u001b[0m\u001b[0;32m    242\u001b[0m         \u001b[0mself\u001b[0m\u001b[1;33m.\u001b[0m\u001b[0m_network_nodes\u001b[0m \u001b[1;33m=\u001b[0m \u001b[0mnodes\u001b[0m\u001b[1;33m\u001b[0m\u001b[1;33m\u001b[0m\u001b[0m\n\u001b[0;32m    243\u001b[0m         \u001b[0mself\u001b[0m\u001b[1;33m.\u001b[0m\u001b[0m_nodes_by_depth\u001b[0m \u001b[1;33m=\u001b[0m \u001b[0mnodes_by_depth\u001b[0m\u001b[1;33m\u001b[0m\u001b[1;33m\u001b[0m\u001b[0m\n",
      "\u001b[1;32m~\\Miniconda3\\lib\\site-packages\\keras\\engine\\network.py\u001b[0m in \u001b[0;36m_map_graph_network\u001b[1;34m(inputs, outputs)\u001b[0m\n\u001b[0;32m   1432\u001b[0m                   \u001b[0mlayer\u001b[0m\u001b[1;33m=\u001b[0m\u001b[0mlayer\u001b[0m\u001b[1;33m,\u001b[0m\u001b[1;33m\u001b[0m\u001b[1;33m\u001b[0m\u001b[0m\n\u001b[0;32m   1433\u001b[0m                   \u001b[0mnode_index\u001b[0m\u001b[1;33m=\u001b[0m\u001b[0mnode_index\u001b[0m\u001b[1;33m,\u001b[0m\u001b[1;33m\u001b[0m\u001b[1;33m\u001b[0m\u001b[0m\n\u001b[1;32m-> 1434\u001b[1;33m                   tensor_index=tensor_index)\n\u001b[0m\u001b[0;32m   1435\u001b[0m \u001b[1;33m\u001b[0m\u001b[0m\n\u001b[0;32m   1436\u001b[0m     \u001b[1;32mfor\u001b[0m \u001b[0mnode\u001b[0m \u001b[1;32min\u001b[0m \u001b[0mreversed\u001b[0m\u001b[1;33m(\u001b[0m\u001b[0mnodes_in_decreasing_depth\u001b[0m\u001b[1;33m)\u001b[0m\u001b[1;33m:\u001b[0m\u001b[1;33m\u001b[0m\u001b[1;33m\u001b[0m\u001b[0m\n",
      "\u001b[1;32m~\\Miniconda3\\lib\\site-packages\\keras\\engine\\network.py\u001b[0m in \u001b[0;36mbuild_map\u001b[1;34m(tensor, finished_nodes, nodes_in_progress, layer, node_index, tensor_index)\u001b[0m\n\u001b[0;32m   1419\u001b[0m             \u001b[0mtensor_index\u001b[0m \u001b[1;33m=\u001b[0m \u001b[0mnode\u001b[0m\u001b[1;33m.\u001b[0m\u001b[0mtensor_indices\u001b[0m\u001b[1;33m[\u001b[0m\u001b[0mi\u001b[0m\u001b[1;33m]\u001b[0m\u001b[1;33m\u001b[0m\u001b[1;33m\u001b[0m\u001b[0m\n\u001b[0;32m   1420\u001b[0m             build_map(x, finished_nodes, nodes_in_progress, layer,\n\u001b[1;32m-> 1421\u001b[1;33m                       node_index, tensor_index)\n\u001b[0m\u001b[0;32m   1422\u001b[0m \u001b[1;33m\u001b[0m\u001b[0m\n\u001b[0;32m   1423\u001b[0m         \u001b[0mfinished_nodes\u001b[0m\u001b[1;33m.\u001b[0m\u001b[0madd\u001b[0m\u001b[1;33m(\u001b[0m\u001b[0mnode\u001b[0m\u001b[1;33m)\u001b[0m\u001b[1;33m\u001b[0m\u001b[1;33m\u001b[0m\u001b[0m\n",
      "\u001b[1;32m~\\Miniconda3\\lib\\site-packages\\keras\\engine\\network.py\u001b[0m in \u001b[0;36mbuild_map\u001b[1;34m(tensor, finished_nodes, nodes_in_progress, layer, node_index, tensor_index)\u001b[0m\n\u001b[0;32m   1419\u001b[0m             \u001b[0mtensor_index\u001b[0m \u001b[1;33m=\u001b[0m \u001b[0mnode\u001b[0m\u001b[1;33m.\u001b[0m\u001b[0mtensor_indices\u001b[0m\u001b[1;33m[\u001b[0m\u001b[0mi\u001b[0m\u001b[1;33m]\u001b[0m\u001b[1;33m\u001b[0m\u001b[1;33m\u001b[0m\u001b[0m\n\u001b[0;32m   1420\u001b[0m             build_map(x, finished_nodes, nodes_in_progress, layer,\n\u001b[1;32m-> 1421\u001b[1;33m                       node_index, tensor_index)\n\u001b[0m\u001b[0;32m   1422\u001b[0m \u001b[1;33m\u001b[0m\u001b[0m\n\u001b[0;32m   1423\u001b[0m         \u001b[0mfinished_nodes\u001b[0m\u001b[1;33m.\u001b[0m\u001b[0madd\u001b[0m\u001b[1;33m(\u001b[0m\u001b[0mnode\u001b[0m\u001b[1;33m)\u001b[0m\u001b[1;33m\u001b[0m\u001b[1;33m\u001b[0m\u001b[0m\n",
      "\u001b[1;32m~\\Miniconda3\\lib\\site-packages\\keras\\engine\\network.py\u001b[0m in \u001b[0;36mbuild_map\u001b[1;34m(tensor, finished_nodes, nodes_in_progress, layer, node_index, tensor_index)\u001b[0m\n\u001b[0;32m   1391\u001b[0m             \u001b[0mValueError\u001b[0m\u001b[1;33m:\u001b[0m \u001b[1;32mif\u001b[0m \u001b[0ma\u001b[0m \u001b[0mcycle\u001b[0m \u001b[1;32mis\u001b[0m \u001b[0mdetected\u001b[0m\u001b[1;33m.\u001b[0m\u001b[1;33m\u001b[0m\u001b[1;33m\u001b[0m\u001b[0m\n\u001b[0;32m   1392\u001b[0m         \"\"\"\n\u001b[1;32m-> 1393\u001b[1;33m         \u001b[0mnode\u001b[0m \u001b[1;33m=\u001b[0m \u001b[0mlayer\u001b[0m\u001b[1;33m.\u001b[0m\u001b[0m_inbound_nodes\u001b[0m\u001b[1;33m[\u001b[0m\u001b[0mnode_index\u001b[0m\u001b[1;33m]\u001b[0m\u001b[1;33m\u001b[0m\u001b[1;33m\u001b[0m\u001b[0m\n\u001b[0m\u001b[0;32m   1394\u001b[0m \u001b[1;33m\u001b[0m\u001b[0m\n\u001b[0;32m   1395\u001b[0m         \u001b[1;31m# Prevent cycles.\u001b[0m\u001b[1;33m\u001b[0m\u001b[1;33m\u001b[0m\u001b[1;33m\u001b[0m\u001b[0m\n",
      "\u001b[1;31mAttributeError\u001b[0m: 'NoneType' object has no attribute '_inbound_nodes'"
     ]
    }
   ],
   "source": [
    "# layers_deleting= 2\n",
    "# for i in range(len(p_net.layers)-layers_deleting):\n",
    "#     p_net.layers[i].trainable = False\n",
    "    \n",
    "# my_layers = p_net.layers[len(p_net.layers)-layers_deleting].output\n",
    "# my_layers = Dense(32,activation='relu')(my_layers)\n",
    "# my_layers = Dense(1,activation=\"sigmoid\")(my_layers)\n",
    "\n",
    "# new_model = Model(inputs=p_net.input,outputs=my_layers)\n",
    "# new_model.summary()"
   ]
  },
  {
   "cell_type": "code",
   "execution_count": null,
   "metadata": {
    "scrolled": true
   },
   "outputs": [],
   "source": [
    "# x=p_net.output\n",
    "# x=GlobalAveragePooling2D()(x[0])\n",
    "# #x=Flatten()(x[0])  #why isn't working?\n",
    "# x=Dense(64,activation='relu')(x) #we add dense layers so that the model can learn more complex functions and classify for better results.\n",
    "# x=Dense(32,activation='relu')(x) #dense layer 2\n",
    "# x=Dense(16,activation='relu')(x) #dense layer 3\n",
    "# preds=Dense(1,activation='sigmoid')(x) #final layer with softmax activation\n",
    "# new_model= Model(inputs=p_net.input,outputs=preds)\n"
   ]
  },
  {
   "cell_type": "code",
   "execution_count": 38,
   "metadata": {},
   "outputs": [],
   "source": [
    "# x=p_net.output\n",
    "# x=GlobalAveragePooling2D()(x[0])\n",
    "# #x=Flatten()(x[0])  #why isn't working?\n",
    "# x=Dense(1024,activation='relu')(x) \n",
    "# x=Dense(512,activation='relu')(x)\n",
    "# x=Dense(256,activation='relu')(x)\n",
    "# preds=Dense(1,activation='sigmoid')(x) #final layer with softmax activation\n",
    "# new_model= Model(inputs=p_net.input,outputs=preds)\n"
   ]
  },
  {
   "cell_type": "code",
   "execution_count": 67,
   "metadata": {},
   "outputs": [],
   "source": [
    "x=p_net.output\n",
    "x=GlobalAveragePooling2D()(x[1])  # is there a better approach? here I took the face/no face output\n",
    "#x=Flatten()(x[0])  #why isn't working?\n",
    "x=Dense(256,activation='relu')(x)\n",
    "preds=Dense(1,activation='sigmoid')(x) #final layer with softmax activation\n",
    "new_model= Model(inputs=p_net.input,outputs=preds)\n"
   ]
  },
  {
   "cell_type": "code",
   "execution_count": 61,
   "metadata": {},
   "outputs": [],
   "source": [
    "# x=p_net.output\n",
    "# x=GlobalAveragePooling2D()(x[1])\n",
    "# x=Dense(256,activation='relu')(x)\n",
    "# preds=Dense(1,activation='sigmoid')(x) #final layer with softmax activation\n",
    "# new_model= Model(inputs=p_net.input,outputs=preds)\n"
   ]
  },
  {
   "cell_type": "code",
   "execution_count": 70,
   "metadata": {},
   "outputs": [
    {
     "name": "stdout",
     "output_type": "stream",
     "text": [
      "Model: \"model_11\"\n",
      "_________________________________________________________________\n",
      "Layer (type)                 Output Shape              Param #   \n",
      "=================================================================\n",
      "input_4 (InputLayer)         (None, None, None, 3)     0         \n",
      "_________________________________________________________________\n",
      "conv2d_13 (Conv2D)           (None, None, None, 10)    280       \n",
      "_________________________________________________________________\n",
      "p_re_lu_13 (PReLU)           (None, None, None, 10)    10        \n",
      "_________________________________________________________________\n",
      "max_pooling2d_7 (MaxPooling2 (None, None, None, 10)    0         \n",
      "_________________________________________________________________\n",
      "conv2d_14 (Conv2D)           (None, None, None, 16)    1456      \n",
      "_________________________________________________________________\n",
      "p_re_lu_14 (PReLU)           (None, None, None, 16)    16        \n",
      "_________________________________________________________________\n",
      "conv2d_15 (Conv2D)           (None, None, None, 32)    4640      \n",
      "_________________________________________________________________\n",
      "p_re_lu_15 (PReLU)           (None, None, None, 32)    32        \n",
      "_________________________________________________________________\n",
      "conv2d_16 (Conv2D)           (None, None, None, 2)     66        \n",
      "_________________________________________________________________\n",
      "softmax_4 (Softmax)          (None, None, None, 2)     0         \n",
      "_________________________________________________________________\n",
      "global_average_pooling2d_6 ( (None, 2)                 0         \n",
      "_________________________________________________________________\n",
      "dense_27 (Dense)             (None, 256)               768       \n",
      "_________________________________________________________________\n",
      "dense_28 (Dense)             (None, 1)                 257       \n",
      "=================================================================\n",
      "Total params: 7,525\n",
      "Trainable params: 1,025\n",
      "Non-trainable params: 6,500\n",
      "_________________________________________________________________\n"
     ]
    }
   ],
   "source": [
    "new_model.summary()"
   ]
  },
  {
   "cell_type": "code",
   "execution_count": 69,
   "metadata": {},
   "outputs": [
    {
     "name": "stdout",
     "output_type": "stream",
     "text": [
      "<keras.engine.input_layer.InputLayer object at 0x0000016336DDF248> False \n",
      "<keras.layers.convolutional.Conv2D object at 0x0000016336DDF488> False \n",
      "<keras.layers.advanced_activations.PReLU object at 0x0000016334ABB748> False \n",
      "<keras.layers.pooling.MaxPooling2D object at 0x0000016334ABBD08> False \n",
      "<keras.layers.convolutional.Conv2D object at 0x0000016336DEDE88> False \n",
      "<keras.layers.advanced_activations.PReLU object at 0x0000016336E05108> False \n",
      "<keras.layers.convolutional.Conv2D object at 0x0000016336E10408> False \n",
      "<keras.layers.advanced_activations.PReLU object at 0x0000016336E12988> False \n",
      "<keras.layers.convolutional.Conv2D object at 0x0000016336E16148> False \n",
      "<keras.layers.advanced_activations.Softmax object at 0x0000016336E0CB88> False \n",
      "<keras.layers.pooling.GlobalAveragePooling2D object at 0x0000016317B1B408> True \n",
      "<keras.layers.core.Dense object at 0x0000016317B1B708> True \n",
      "<keras.layers.core.Dense object at 0x00000163179C4FC8> True \n"
     ]
    }
   ],
   "source": [
    "for layer in new_model.layers[:10]:\n",
    "    layer.trainable=False\n",
    "for layer in new_model.layers[10:]:\n",
    "    layer.trainable=True\n",
    "    \n",
    "for layer in new_model.layers:\n",
    "    print(layer, layer.trainable, end= ' ')\n",
    "    print(\"\")"
   ]
  },
  {
   "cell_type": "code",
   "execution_count": 64,
   "metadata": {},
   "outputs": [],
   "source": [
    "from tensorflow import keras\n",
    "#from tensorflow.keras import layers\n",
    "\n",
    "my_optimizer = keras.optimizers.Adam(lr=0.001)"
   ]
  },
  {
   "cell_type": "code",
   "execution_count": 65,
   "metadata": {},
   "outputs": [],
   "source": [
    "\n",
    "new_model.compile(optimizer='adam', loss='binary_crossentropy', metrics=['acc',f1_m,precision_m, recall_m])"
   ]
  },
  {
   "cell_type": "code",
   "execution_count": null,
   "metadata": {},
   "outputs": [],
   "source": [
    "# x=base_model.output\n",
    "# x=GlobalAveragePooling2D()(x)\n",
    "# x=Dense(1024,activation='relu')(x) #we add dense layers so that the model can learn more complex functions and classify for better results.\n",
    "# x=Dense(1024,activation='relu')(x) #dense layer 2\n",
    "# x=Dense(512,activation='relu')(x) #dense layer 3\n",
    "# preds=Dense(3,activation='softmax')(x) #final layer with softmax activation"
   ]
  },
  {
   "cell_type": "code",
   "execution_count": null,
   "metadata": {},
   "outputs": [],
   "source": []
  },
  {
   "cell_type": "code",
   "execution_count": 243,
   "metadata": {},
   "outputs": [],
   "source": [
    "# compile the model\n",
    "\n"
   ]
  },
  {
   "cell_type": "code",
   "execution_count": 204,
   "metadata": {},
   "outputs": [],
   "source": [
    "copy_to_data_generator_structure()"
   ]
  },
  {
   "cell_type": "code",
   "execution_count": 30,
   "metadata": {},
   "outputs": [
    {
     "name": "stdout",
     "output_type": "stream",
     "text": [
      "1996\n",
      "500\n",
      "Train dataset shape: (1996, 50, 50, 3) \tValidation dataset shape: (500, 50, 50, 3)\n"
     ]
    }
   ],
   "source": [
    "IMG_DIM = (50, 50)\n",
    "\n",
    "train_files = glob.glob('data/train/aligned/*',recursive=True)\n",
    "train_files.extend(glob.glob('data/train/negative/*',recursive=True))\n",
    "print(len(train_files))\n",
    "train_imgs = [img_to_array(load_img(img, target_size=IMG_DIM)) for img in train_files]\n",
    "train_imgs = np.array(train_imgs)\n",
    "\n",
    "\n",
    "validation_files = glob.glob('data/validation/aligned/*',recursive=True)\n",
    "validation_files.extend(glob.glob('data/validation/negative/*',recursive=True))\n",
    "print(len(validation_files))\n",
    "validation_imgs = [img_to_array(load_img(img, target_size=IMG_DIM)) for img in validation_files]\n",
    "validation_imgs = np.array(validation_imgs)\n",
    "\n",
    "\n",
    "print('Train dataset shape:', train_imgs.shape, \n",
    "      '\\tValidation dataset shape:', validation_imgs.shape)"
   ]
  },
  {
   "cell_type": "code",
   "execution_count": 31,
   "metadata": {},
   "outputs": [
    {
     "name": "stdout",
     "output_type": "stream",
     "text": [
      "[1 0]\n",
      "[1 0]\n"
     ]
    }
   ],
   "source": [
    "train_labels = np.array(\n",
    "    [1] * (train_imgs.shape[0] // 2) + [0] * (train_imgs.shape[0] // 2))\n",
    "\n",
    "validation_labels = np.array(\n",
    "    [1] * (validation_imgs.shape[0] // 2) + [0] * (validation_imgs.shape[0] // 2))\n",
    "\n",
    "print(train_labels[997:999])\n",
    "print(validation_labels[249:251])\n",
    "# printing to verify correctness of vector"
   ]
  },
  {
   "cell_type": "code",
   "execution_count": 32,
   "metadata": {},
   "outputs": [
    {
     "data": {
      "text/plain": [
       "(1996,)"
      ]
     },
     "execution_count": 32,
     "metadata": {},
     "output_type": "execute_result"
    }
   ],
   "source": [
    "train_labels.shape"
   ]
  },
  {
   "cell_type": "code",
   "execution_count": 60,
   "metadata": {},
   "outputs": [],
   "source": [
    "BatchSize= 2 #start with low number\n",
    "Train_samples= train_imgs.shape[0]\n",
    "Epochs= 50"
   ]
  },
  {
   "cell_type": "code",
   "execution_count": null,
   "metadata": {
    "scrolled": true
   },
   "outputs": [],
   "source": [
    "train_datagen = ImageDataGenerator(rescale=1./255,  \n",
    "                                   horizontal_flip=True,\n",
    "                                   zca_whitening=True,\n",
    "                                   brightness_range=[0.9,1.1],\n",
    "                                   fill_mode='nearest')\n",
    "\n",
    "val_datagen = ImageDataGenerator(rescale=1./255)\n",
    "\n",
    "train_generator = train_datagen.flow(train_imgs, train_labels, batch_size=BatchSize)\n",
    "val_generator = val_datagen.flow(validation_imgs, validation_labels, batch_size=BatchSize)\n",
    "\n",
    "history = new_model.fit_generator(train_generator, steps_per_epoch= Train_samples//BatchSize,\n",
    "                              epochs=Epochs,     \n",
    "                              validation_data=val_generator, \n",
    "                              validation_steps=Train_samples//BatchSize , \n",
    "                              verbose=1) \n"
   ]
  },
  {
   "cell_type": "markdown",
   "metadata": {},
   "source": [
    "epoch 10 batch 10  #m: 0.6618 - val_loss: 1.9391 - val_acc: 0.8287 - val_f1_m: 0.5745 - \n",
    "#val_precision_m: 0.6022 - val_recall_m: 0.5716\n",
    "\n",
    "Epoch 100/100\n",
    " 10s 10ms/step - loss: 0.3443 - acc: 0.8507 - f1_m: 0.6513 - precision_m: 0.6548 - recall_m: 0.6708 -\n",
    "val_loss: 0.0356 - val_acc: 0.8662 - val_f1_m: 0.6540 - val_precision_m: 0.6588 - val_recall_m: 0.6678\n",
    "                    \n",
    "                    Epoch 100/100\n",
    "998/998- 11s 11ms/step - \n",
    "loss: 0.3435 - acc: 0.8512 - f1_m: 0.6580 - precision_m: 0.6593 - recall_m: 0.6814\n",
    "val_loss: 0.0227 - val_acc: 0.8642 - val_f1_m: 0.6420 - val_precision_m: 0.6428 - val_recall_m: 0.6608\n",
    "                    \n",
    "                    \n",
    "\n",
    "fit the model\n",
    "#history = model.fit(Xtrain, ytrain, validation_split=0.3, epochs=10, verbose=0)\n",
    "\n",
    "evaluate the model\n",
    "#loss, accuracy, f1_score, precision, recall = model.evaluate(Xtest, ytest, verbose=0)\n",
    "\n",
    "\n",
    "\n"
   ]
  },
  {
   "cell_type": "markdown",
   "metadata": {},
   "source": [
    "verifying results one last time for previous models"
   ]
  },
  {
   "cell_type": "code",
   "execution_count": null,
   "metadata": {},
   "outputs": [],
   "source": [
    "# uncomment \"show random\"\n",
    "print(\"test_haarCascade\")\n",
    "test_haarCascade()\n",
    "print(\"test_cvlib\")\n",
    "test_cvlib()\n",
    "# print(\"test_YOLOv3\")  #stopped-took too much time.\n",
    "# test_YOLOv3()\n",
    "print(\"test_mtcnn\")\n",
    "test_mtcnn(0.6)\n",
    "print(\"test_Bmtcnn\")\n",
    "test_Bmtcnn(0.6)\n",
    "print(\"test_Pmtcnn\")\n",
    "test_Pmtcnn(0.6)\n",
    "\n"
   ]
  },
  {
   "cell_type": "code",
   "execution_count": 20,
   "metadata": {},
   "outputs": [
    {
     "data": {
      "text/html": [
       "<div>\n",
       "<style scoped>\n",
       "    .dataframe tbody tr th:only-of-type {\n",
       "        vertical-align: middle;\n",
       "    }\n",
       "\n",
       "    .dataframe tbody tr th {\n",
       "        vertical-align: top;\n",
       "    }\n",
       "\n",
       "    .dataframe thead th {\n",
       "        text-align: right;\n",
       "    }\n",
       "</style>\n",
       "<table border=\"1\" class=\"dataframe\">\n",
       "  <thead>\n",
       "    <tr style=\"text-align: right;\">\n",
       "      <th></th>\n",
       "      <th>model_comment</th>\n",
       "      <th>time_ms</th>\n",
       "      <th>accuracy</th>\n",
       "      <th>recall</th>\n",
       "      <th>precision</th>\n",
       "    </tr>\n",
       "  </thead>\n",
       "  <tbody>\n",
       "    <tr>\n",
       "      <th>66</th>\n",
       "      <td>Pretrained\\n cv2_haarCascade_scale_1.02_minNei...</td>\n",
       "      <td>3.42</td>\n",
       "      <td>98.56</td>\n",
       "      <td>97.52</td>\n",
       "      <td>99.59</td>\n",
       "    </tr>\n",
       "    <tr>\n",
       "      <th>67</th>\n",
       "      <td>Pretrained\\n cvlib_threshold_0.5</td>\n",
       "      <td>51.93</td>\n",
       "      <td>82.89</td>\n",
       "      <td>100.00</td>\n",
       "      <td>74.51</td>\n",
       "    </tr>\n",
       "    <tr>\n",
       "      <th>68</th>\n",
       "      <td>Pretrained\\n mtcnn_scale_0.6</td>\n",
       "      <td>18.27</td>\n",
       "      <td>98.80</td>\n",
       "      <td>98.48</td>\n",
       "      <td>99.11</td>\n",
       "    </tr>\n",
       "    <tr>\n",
       "      <th>69</th>\n",
       "      <td>Pretrained\\n Bmtcnn_scale_0.6</td>\n",
       "      <td>34.60</td>\n",
       "      <td>49.68</td>\n",
       "      <td>98.48</td>\n",
       "      <td>49.84</td>\n",
       "    </tr>\n",
       "    <tr>\n",
       "      <th>70</th>\n",
       "      <td>Pretrained\\n Pmtcnn_scale_0.6</td>\n",
       "      <td>19.78</td>\n",
       "      <td>99.16</td>\n",
       "      <td>98.48</td>\n",
       "      <td>99.84</td>\n",
       "    </tr>\n",
       "  </tbody>\n",
       "</table>\n",
       "</div>"
      ],
      "text/plain": [
       "                                        model_comment  time_ms  accuracy  \\\n",
       "66  Pretrained\\n cv2_haarCascade_scale_1.02_minNei...     3.42     98.56   \n",
       "67                   Pretrained\\n cvlib_threshold_0.5    51.93     82.89   \n",
       "68                       Pretrained\\n mtcnn_scale_0.6    18.27     98.80   \n",
       "69                      Pretrained\\n Bmtcnn_scale_0.6    34.60     49.68   \n",
       "70                      Pretrained\\n Pmtcnn_scale_0.6    19.78     99.16   \n",
       "\n",
       "    recall  precision  \n",
       "66   97.52      99.59  \n",
       "67  100.00      74.51  \n",
       "68   98.48      99.11  \n",
       "69   98.48      49.84  \n",
       "70   98.48      99.84  "
      ]
     },
     "execution_count": 20,
     "metadata": {},
     "output_type": "execute_result"
    },
    {
     "data": {
      "image/png": "[encoded data removed]",
      "text/plain": [
       "<Figure size 432x288 with 1 Axes>"
      ]
     },
     "metadata": {
      "needs_background": "light"
     },
     "output_type": "display_data"
    },
    {
     "data": {
      "image/png": "[encoded data removed]",
      "text/plain": [
       "<Figure size 432x288 with 1 Axes>"
      ]
     },
     "metadata": {
      "needs_background": "light"
     },
     "output_type": "display_data"
    },
    {
     "data": {
      "image/png": "[encoded data removed]",
      "text/plain": [
       "<Figure size 432x288 with 1 Axes>"
      ]
     },
     "metadata": {
      "needs_background": "light"
     },
     "output_type": "display_data"
    },
    {
     "data": {
      "image/png": "[encoded data removed]",
      "text/plain": [
       "<Figure size 432x288 with 1 Axes>"
      ]
     },
     "metadata": {
      "needs_background": "light"
     },
     "output_type": "display_data"
    }
   ],
   "source": [
    "res= pd.read_csv(Results_File_Path)\n",
    "res= res.tail(n=5)\n",
    "\n",
    "res.plot(x=\"model_comment\", y=['time_ms'], kind=\"bar\",grid=True,ylim=(2,52))\n",
    "res.plot(x=\"model_comment\", y=['precision'], kind=\"bar\",grid=True,ylim=(48,100))\n",
    "res.plot(x=\"model_comment\", y=['recall'], kind=\"bar\",grid=True,ylim=(97,101))\n",
    "res.plot(x=\"model_comment\", y=['accuracy'], kind=\"bar\",grid=True,ylim=(48,100))\n",
    "#res.round([\"time_ms\",\"accuracy\",\"recall\",\"precision\"],2)\n",
    "\n",
    "res=res.round({'time_ms': 2, 'accuracy': 2, 'recall': 2, 'precision': 2 })\n",
    "res= res.loc[:,[\"model_comment\",\"time_ms\",\"accuracy\",\"recall\",\"precision\"]]\n",
    "res.head()"
   ]
  },
  {
   "cell_type": "markdown",
   "metadata": {},
   "source": [
    "verify people can use my model"
   ]
  },
  {
   "cell_type": "code",
   "execution_count": 22,
   "metadata": {},
   "outputs": [],
   "source": [
    "model=Pmtcnn()\n",
    "with open('bestModel.pkl','wb')as handle:\n",
    "    pkl.dump(model, handle)  "
   ]
  },
  {
   "cell_type": "code",
   "execution_count": 24,
   "metadata": {},
   "outputs": [
    {
     "name": "stderr",
     "output_type": "stream",
     "text": [
      "C:\\Users\\tunik\\Miniconda3\\lib\\site-packages\\keras\\engine\\saving.py:341: UserWarning: No training configuration found in save file: the model was *not* compiled. Compile it manually.\n",
      "  warnings.warn('No training configuration found in save file: '\n"
     ]
    }
   ],
   "source": [
    "with open('bestModel.pkl','rb')as handle:\n",
    "    best= pkl.load(handle)  \n"
   ]
  },
  {
   "cell_type": "code",
   "execution_count": 1,
   "metadata": {},
   "outputs": [
    {
     "name": "stderr",
     "output_type": "stream",
     "text": [
      "Using TensorFlow backend.\n"
     ]
    }
   ],
   "source": [
    "import Pmtcnn\n",
    "import PIL"
   ]
  },
  {
   "cell_type": "code",
   "execution_count": 2,
   "metadata": {},
   "outputs": [],
   "source": [
    "lev_mtcnn=Pmtcnn.Pmtcnn()"
   ]
  },
  {
   "cell_type": "code",
   "execution_count": 4,
   "metadata": {},
   "outputs": [
    {
     "data": {
      "text/plain": [
       "False"
      ]
     },
     "execution_count": 4,
     "metadata": {},
     "output_type": "execute_result"
    }
   ],
   "source": [
    "image = PIL.Image.open('test.png')\n",
    "res_pmtcnn= lev_mtcnn.transform_detect_aligned(image)\n",
    "res_pmtcnn"
   ]
  },
  {
   "cell_type": "code",
   "execution_count": null,
   "metadata": {},
   "outputs": [],
   "source": []
  }
 ],
 "metadata": {
  "kernelspec": {
   "display_name": "Python 3",
   "language": "python",
   "name": "python3"
  }
 },
 "nbformat": 4,
 "nbformat_minor": 2
}
