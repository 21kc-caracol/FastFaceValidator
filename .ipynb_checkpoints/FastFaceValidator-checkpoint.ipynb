{
 "cells": [
  {
   "cell_type": "markdown",
   "metadata": {},
   "source": [
    "Hello lev,\n",
    "Following our talk, please see the task below.\n",
    "We would love to get an answer within a week~\n",
    "If you have any questions, please feel free to contact Oded/Pavel CC'd to this email.\n",
    "Good luck!\n",
    "Some background:\n",
    "In driver monitoring system face detection is critical block in pipeline, because without proper face detection all following algorithms will fail.\n",
    "Accurate face detection algorithms are slow, so to produce real time application, we use fast trackers to track found faces.\n",
    "Trackers are fast but they can loose face and track another objects. To validate that tracker tracks valid face, we need fast classifier that will decide if tracker result is valid face. Valid face is face aligned face, shifted faces considered to be invalid (because other blocks in the pipeline, expect aligned faces).\n",
    "\n",
    "Task:\n",
    "You need to design and implement such system (face validator) based on Neural Networks. We prefer implementation using Keras APIs, but if you unfamiliar with Keras or have difficulties working with it, you can use tensorflow (preferred)  or any other framework for training/test neural networks.\n",
    "\n",
    "We provide you with dataset (small part of big dataset) of valid (aligned) faces and negatives (not faces or not aligned faces).\n",
    "Your implementation should be fast. Guideline real time (less then 30ms) on i7 CPU without GPU.\n",
    "If you have weak CPU and it is hard to you to estimate run time on i7 CPU, lets say it should be less than 300ms on your system. It is only guideline (there is no strict limit or specific number). We will test your network with another images from the same dataset (images that were not provided to you) to test your network.\n",
    "\n",
    "You can build your own network from the scratch or use existing classification networks or parts of them.\n",
    "\n",
    "You should be able to describe you design process and decisions that was taken in choosing architecture and training the network. This is the most important part of the task and not the final result itself (final achieved accuracy and run time performance).\n"
   ]
  },
  {
   "cell_type": "code",
   "execution_count": null,
   "metadata": {},
   "outputs": [],
   "source": []
  }
 ],
 "metadata": {
  "kernelspec": {
   "display_name": "Python 3",
   "language": "python",
   "name": "python3"
  },
  "language_info": {
   "codemirror_mode": {
    "name": "ipython",
    "version": 3
   },
   "file_extension": ".py",
   "mimetype": "text/x-python",
   "name": "python",
   "nbconvert_exporter": "python",
   "pygments_lexer": "ipython3",
   "version": "3.7.4"
  }
 },
 "nbformat": 4,
 "nbformat_minor": 2
}
